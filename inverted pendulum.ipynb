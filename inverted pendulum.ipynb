{
 "cells": [
  {
   "cell_type": "markdown",
   "metadata": {},
   "source": [
    "<img src=\"img/512px-Cart-pendulum.svg.png\">\n",
    "\n"
   ]
  },
  {
   "cell_type": "markdown",
   "metadata": {},
   "source": [
    "如图所示(我设的方程来自现代控制系统，那里摆向右偏是正方向)，倒立摆符合以下微分方程组：\n",
    "\n",
    "$$\n",
    "\\begin{align*}\n",
    "(M+m) \\ddot{x} - ml\\ddot{\\theta}\\cos \\theta + ml \\dot{\\theta}^2\\sin \\theta &= F \\\\\n",
    "l\\ddot{\\theta} - g \\sin\\theta &= \\ddot{x} \\cos \\theta\n",
    "\\end{align*}\n",
    "$$"
   ]
  },
  {
   "cell_type": "markdown",
   "metadata": {},
   "source": [
    "第二个，即转矩方程易于理解。写出其消元前的形式：\n",
    "\n",
    "$$\n",
    "ml^2 \\ddot{\\theta} - mgl\\sin \\theta =ml\\cos \\theta \\ddot{x} \n",
    "$$"
   ]
  },
  {
   "cell_type": "markdown",
   "metadata": {},
   "source": [
    "可以看到$ml^2 \\ddot{\\theta} = J \\ddot{\\theta}$，其中$J = \\sum m r^2=ml^2$为转动惯量，\n",
    "在此质点型小球上有简单的形式。从而这就是转动方程的动力的加速那一边。另外两个项则为小球\n",
    "两个坐标的分运动对其的贡献。其中$l\\sin \\theta$为垂直的力臂长，乘以重力$mg$即为垂直对转动的力矩。$l\\cos \\theta$则为向右的水平力的力臂。$m \\ddot{x}$为动力，由小车作用给它。\n",
    "\n",
    "对于第一个方程，外力除了使得小车和小球具有向右的加速度外，还应分解出小球对水平运动外\n",
    "两种相对于水平运动等效运动对于力的要求。这里略去。\n",
    "\n",
    "微分方程中具有$\\ddot{\\theta}\\cos \\theta$之类的交叉项或函数，较为复杂，我们可以在$\\theta = 0,x = 0$处取线性逼近，有$\\sin \\theta \\approx \\theta,\\cos \\theta \\approx 1,\\ddot{\\theta}\\approx 0$，由设$M$远远大于$m$，则\n",
    "\n",
    "$$\n",
    "\\begin{align*}\n",
    "M \\ddot{x} - ml \\ddot{\\theta} &= F \\\\\n",
    "l \\ddot{\\theta} - g \\theta &= \\ddot{x} \n",
    "\\end{align*}\n",
    "$$\n",
    "\n",
    "除了$\\theta$方向反向$u,y$变为$F,x$外，结果与现代控制系统里的线性化版本一致。\n",
    "\n",
    "我们把wiki版本改写回现代控制系统的符号然后进行模拟：\n",
    "\n",
    "$$\n",
    "$$\n",
    "\\begin{align*}\n",
    "(M+m) \\ddot{y} + ml\\ddot{\\theta}\\cos \\theta - ml \\dot{\\theta}^2\\sin \\theta &= F \\\\\n",
    "-l\\ddot{\\theta} + g \\sin\\theta &= \\ddot{y} \\cos \\theta\n",
    "\\end{align*}\n",
    "$$\n",
    "$$"
   ]
  },
  {
   "cell_type": "markdown",
   "metadata": {},
   "source": [
    "将$(y,\\dot{y},\\theta,\\dot{\\theta})$记为状态变量$(x_1,x_2,x_3,x_4)$，可写出四个微分方程：\n",
    "\n",
    "$$\n",
    "\\begin{align*}\n",
    "\\dot{x_1} &= x_2 \\\\\n",
    "\\dot{x_2} &= \\frac{-ml\\ddot{\\theta}\\cos \\theta}{M+m}+\\frac{ml\\dot{\\theta}^2\\sin \\theta}{M+m} + \\frac{1}{M+m} F\n",
    "\\end{align*}\n",
    "$$"
   ]
  },
  {
   "cell_type": "code",
   "execution_count": 12,
   "metadata": {},
   "outputs": [
    {
     "name": "stdout",
     "output_type": "stream",
     "text": [
      " \n",
      "odes(t) =\n",
      " \n",
      " (M + m)*diff(y(t), t, t) - l*m*sin(theta(t))*diff(theta(t), t)^2 + l*m*cos(theta(t))*diff(theta(t), t, t) == F\n",
      "                                     g*sin(theta(t)) - l*diff(theta(t), t, t) == cos(theta(t))*diff(y(t), t, t)\n",
      " \n",
      "\n"
     ]
    }
   ],
   "source": [
    "syms M m l F g ;\n",
    "syms y(t) theta(t);\n",
    "ode1 = (M+m) * diff(y,t,2) + m * l * diff(theta,t,2) * cos(theta) - m*l*diff(theta,t)^2 * sin(theta) == F;\n",
    "ode2 = -l * diff(theta,t,2) + g * sin(theta) == diff(y,t,2) * cos(theta);\n",
    "odes = [ode1; ode2]"
   ]
  },
  {
   "cell_type": "code",
   "execution_count": 24,
   "metadata": {},
   "outputs": [
    {
     "name": "stdout",
     "output_type": "stream",
     "text": [
      "Warning: Explicit solution could not be found.\n",
      "> In dsolve (line 201)\n",
      " \n",
      "S =\n",
      " \n",
      "[ empty sym ]\n",
      " \n",
      "\n"
     ]
    }
   ],
   "source": [
    "S = dsolve(odes)"
   ]
  },
  {
   "cell_type": "code",
   "execution_count": 25,
   "metadata": {},
   "outputs": [
    {
     "name": "stdout",
     "output_type": "stream",
     "text": [
      " \n",
      "V =\n",
      " \n",
      "                                                                                                        Y[2]\n",
      " -(F*cos(Y[1]) - M*g*sin(Y[1]) - g*m*sin(Y[1]) + l*m*cos(Y[1])*sin(Y[1])*Y[2]^2)/(l*(M + m - m*cos(Y[1])^2))\n",
      "                                                                                                        Y[4]\n",
      "                                (F - g*m*cos(Y[1])*sin(Y[1]) + l*m*sin(Y[1])*Y[2]^2)/(M + m - m*cos(Y[1])^2)\n",
      " \n",
      "\n"
     ]
    }
   ],
   "source": [
    "[V] = odeToVectorField(odes)"
   ]
  },
  {
   "cell_type": "code",
   "execution_count": 28,
   "metadata": {},
   "outputs": [
    {
     "name": "stdout",
     "output_type": "stream",
     "text": [
      "\n",
      "M =\n",
      "\n",
      "  function_handle with value:\n",
      "\n",
      "    @(t,Y,F,M,g,l,m)[Y(2);-(F.*cos(Y(1))-M.*g.*sin(Y(1))-g.*m.*sin(Y(1))+l.*m.*cos(Y(1)).*sin(Y(1)).*Y(2).^2)./(l.*(M+m-m.*cos(Y(1)).^2));Y(4);(F-g.*m.*cos(Y(1)).*sin(Y(1))+l.*m.*sin(Y(1)).*Y(2).^2)./(M+m-m.*cos(Y(1)).^2)]\n",
      "\n",
      "\n"
     ]
    }
   ],
   "source": [
    "M = matlabFunction(V,'vars', {'t','Y', 'F', 'M', 'g', 'l', 'm'})\n"
   ]
  },
  {
   "cell_type": "code",
   "execution_count": 61,
   "metadata": {},
   "outputs": [
    {
     "name": "stdout",
     "output_type": "stream",
     "text": [
      "\n",
      "ans =\n",
      "\n",
      "    4.0000\n",
      "    5.7940\n",
      "    6.0000\n",
      "   22.9828\n",
      "\n",
      "\n"
     ]
    }
   ],
   "source": [
    "M([-1 -1], [3 4 5 6], 1, 2, 3, 4, 5)"
   ]
  },
  {
   "cell_type": "code",
   "execution_count": 81,
   "metadata": {},
   "outputs": [
    {
     "name": "stdout",
     "output_type": "stream",
     "text": [
      "\n"
     ]
    }
   ],
   "source": [
    "dummy = -1;"
   ]
  },
  {
   "cell_type": "code",
   "execution_count": 82,
   "metadata": {},
   "outputs": [
    {
     "name": "stdout",
     "output_type": "stream",
     "text": [
      "\n",
      "sol = \n",
      "\n",
      "  struct with fields:\n",
      "\n",
      "     solver: 'ode45'\n",
      "    extdata: [1×1 struct]\n",
      "          x: [1×93 double]\n",
      "          y: [4×93 double]\n",
      "      stats: [1×1 struct]\n",
      "      idata: [1×1 struct]\n",
      "\n",
      "\n"
     ]
    }
   ],
   "source": [
    "sol = ode45(M, [0 20], [0.1 0.1 0.1 0.1], dummy, 0.0, 10.0, 9.8, 1.0, 1.0)"
   ]
  },
  {
   "cell_type": "code",
   "execution_count": 92,
   "metadata": {},
   "outputs": [
    {
     "name": "stdout",
     "output_type": "stream",
     "text": [
      "\n",
      "ans =\n",
      "\n",
      "    0.1000\n",
      "    0.1019\n",
      "    0.1106\n",
      "    0.1278\n",
      "    0.1337\n",
      "    0.1261\n",
      "    0.1271\n",
      "    0.2059\n",
      "    0.3330\n",
      "    0.3727\n",
      "    0.3677\n",
      "    0.3642\n",
      "    0.3706\n",
      "    0.3861\n",
      "    0.4100\n",
      "    0.4372\n",
      "    0.4712\n",
      "    0.5270\n",
      "    0.6079\n",
      "    0.6142\n",
      "    0.5436\n",
      "    0.4997\n",
      "    0.5162\n",
      "    0.5869\n",
      "    0.6430\n",
      "    0.6819\n",
      "    0.7111\n",
      "    0.7335\n",
      "    0.7511\n",
      "    0.7562\n",
      "    0.7490\n",
      "    0.7518\n",
      "    0.8346\n",
      "    0.9547\n",
      "    0.9985\n",
      "    0.9945\n",
      "    0.9906\n",
      "    0.9965\n",
      "    1.0115\n",
      "    1.0354\n",
      "    1.0629\n",
      "    1.0955\n",
      "    1.1488\n",
      "    1.2296\n",
      "    1.2552\n",
      "    1.1842\n",
      "    1.1354\n",
      "    1.1398\n",
      "    1.2074\n",
      "    1.2704\n",
      "    1.3119\n",
      "    1.3423\n",
      "    1.3659\n",
      "    1.3843\n",
      "    1.3912\n",
      "    1.3865\n",
      "    1.3833\n",
      "    1.4548\n",
      "    1.5832\n",
      "    1.6353\n",
      "    1.6311\n",
      "    1.6296\n",
      "    1.6375\n",
      "    1.6552\n",
      "    1.6802\n",
      "    1.7081\n",
      "    1.7399\n",
      "    1.7904\n",
      "    1.8696\n",
      "    1.9120\n",
      "    1.8679\n",
      "    1.8016\n",
      "    1.7927\n",
      "    1.8359\n",
      "    1.9055\n",
      "    1.9563\n",
      "    1.9915\n",
      "    2.0206\n",
      "    2.0444\n",
      "    2.0659\n",
      "    2.0777\n",
      "    2.0737\n",
      "    2.0697\n",
      "    2.1991\n",
      "    2.2948\n",
      "    2.3260\n",
      "    2.3227\n",
      "    2.3199\n",
      "    2.3256\n",
      "    2.3389\n",
      "    2.3576\n",
      "    2.3722\n",
      "    2.3732\n",
      "\n",
      "\n"
     ]
    }
   ],
   "source": [
    "sol.y(3,:)'"
   ]
  },
  {
   "cell_type": "code",
   "execution_count": 83,
   "metadata": {},
   "outputs": [
    {
     "name": "stdout",
     "output_type": "stream",
     "text": [
      "\n"
     ]
    },
    {
     "data": {
      "image/png": "[encoded data removed]",
      "text/plain": [
       "<IPython.core.display.Image object>"
      ]
     },
     "metadata": {},
     "output_type": "display_data"
    }
   ],
   "source": [
    "fplot(@(x)deval(sol,x,1), [0, 20])\n"
   ]
  },
  {
   "cell_type": "code",
   "execution_count": null,
   "metadata": {},
   "outputs": [],
   "source": []
  },
  {
   "cell_type": "code",
   "execution_count": 22,
   "metadata": {},
   "outputs": [
    {
     "name": "stdout",
     "output_type": "stream",
     "text": [
      "\n"
     ]
    }
   ],
   "source": [
    "syms a;\n",
    "syms x(t);"
   ]
  },
  {
   "cell_type": "code",
   "execution_count": 23,
   "metadata": {},
   "outputs": [
    {
     "name": "stdout",
     "output_type": "stream",
     "text": [
      " \n",
      "ans =\n",
      " \n",
      "C1*exp(a*t)\n",
      " \n",
      "\n"
     ]
    }
   ],
   "source": [
    "ode = diff(x,t) == a*x;\n",
    "dsolve(ode)"
   ]
  },
  {
   "cell_type": "code",
   "execution_count": 53,
   "metadata": {},
   "outputs": [
    {
     "name": "stdout",
     "output_type": "stream",
     "text": [
      "\n",
      "f =\n",
      "\n",
      "  function_handle with value:\n",
      "\n",
      "    @(t,Y,a)[a.*Y(1)]\n",
      "\n",
      "\n"
     ]
    }
   ],
   "source": [
    "f = matlabFunction(odeToVectorField(ode),'vars',{'t','Y','a'})"
   ]
  },
  {
   "cell_type": "code",
   "execution_count": 58,
   "metadata": {},
   "outputs": [
    {
     "name": "stdout",
     "output_type": "stream",
     "text": [
      "\n",
      "ans =\n",
      "\n",
      "     6\n",
      "\n",
      "\n"
     ]
    }
   ],
   "source": [
    "f(100,2,3)"
   ]
  },
  {
   "cell_type": "code",
   "execution_count": 80,
   "metadata": {},
   "outputs": [
    {
     "name": "stdout",
     "output_type": "stream",
     "text": [
      "\n"
     ]
    },
    {
     "data": {
      "image/png": "[encoded data removed]",
      "text/plain": [
       "<IPython.core.display.Image object>"
      ]
     },
     "metadata": {},
     "output_type": "display_data"
    }
   ],
   "source": [
    "ode45(f, [0 1], [3],[1 3],2)"
   ]
  },
  {
   "cell_type": "code",
   "execution_count": null,
   "metadata": {},
   "outputs": [],
   "source": []
  }
 ],
 "metadata": {
  "kernelspec": {
   "display_name": "Matlab",
   "language": "matlab",
   "name": "matlab"
  },
  "language_info": {
   "codemirror_mode": "octave",
   "file_extension": ".m",
   "help_links": [
    {
     "text": "MetaKernel Magics",
     "url": "https://github.com/calysto/metakernel/blob/master/metakernel/magics/README.md"
    }
   ],
   "mimetype": "text/x-octave",
   "name": "matlab",
   "version": "0.15.1"
  }
 },
 "nbformat": 4,
 "nbformat_minor": 2
}
