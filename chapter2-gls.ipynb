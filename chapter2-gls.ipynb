{
 "cells": [
  {
   "cell_type": "markdown",
   "metadata": {},
   "source": [
    "## 有色噪声\n",
    "\n",
    "对于看起来似乎符合白噪声模式的系统\n",
    "\n",
    "$$\n",
    "y(k) = \\frac{B(q^{-1})}{A(q^{-1})} u(k) + v(k)\n",
    "$$\n",
    "\n",
    "其中$v(k)$是白噪声，但由于我们只能写成这个样子后进行估计：\n",
    "\n",
    "$$\n",
    "A(q^{-1}) y(k) = B(q^{-1}) u(k) + A(q^{-1}) v(k)\n",
    "$$\n",
    "\n",
    "则当$deg(A) \\ge 1$时（即至少有一阶延迟），系统反而不是白噪声。除非我们指望噪声正好是什么$\\frac{1}{A(q^{-1})}$生成的，反而\n",
    "把有色噪声白化成了白噪声，但这看起来不太可能。\n",
    "\n",
    "更有可能的是，噪声本身就是有色的，我们可以把它们表示成RELS法所试图拟合的CARMA模型的形式：\n",
    "\n",
    "$$\n",
    "A(q^{-1}) y(k) = B(q^{-1}) u(k) + C(q^{-1}) v(k)\n",
    "$$\n",
    "\n",
    "回忆最小二乘法的正规方程$\\hat{\\beta} = (X^TX)^{-1}X^TY$ 讨论真实模型下的是否无偏性$E(\\hat{\\beta} - \\beta)$。当$X$为常数时有：\n",
    "\n",
    "$$\n",
    "E(\\hat{\\beta} - \\beta) = E((X^TX)^{-1}X^T(X\\beta+\\epsilon)) - \\beta = \\beta - \\beta = 0\n",
    "$$\n",
    "\n",
    "但在带自回归项$y(k-i)$的估计中，$y(k-i)$本身是随机的，而不像平时设计矩阵里的值一样可以看作是“设计”出来的。"
   ]
  },
  {
   "cell_type": "code",
   "execution_count": null,
   "metadata": {},
   "outputs": [],
   "source": []
  }
 ],
 "metadata": {
  "kernelspec": {
   "display_name": "Matlab",
   "language": "matlab",
   "name": "matlab"
  },
  "language_info": {
   "codemirror_mode": "octave",
   "file_extension": ".m",
   "help_links": [
    {
     "text": "MetaKernel Magics",
     "url": "https://github.com/calysto/metakernel/blob/master/metakernel/magics/README.md"
    }
   ],
   "mimetype": "text/x-octave",
   "name": "matlab",
   "version": "0.15.1"
  }
 },
 "nbformat": 4,
 "nbformat_minor": 2
}
