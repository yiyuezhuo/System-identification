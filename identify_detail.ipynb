{
 "cells": [
  {
   "cell_type": "code",
   "execution_count": 1,
   "metadata": {},
   "outputs": [
    {
     "name": "stdout",
     "output_type": "stream",
     "text": [
      "\n"
     ]
    }
   ],
   "source": [
    "i = 2;\n",
    "load(\"2018级研究生小作业-阶已知线性差分方程输入输出数据\\data00\"+ i +\"_OrderKnown\");\n"
   ]
  },
  {
   "cell_type": "code",
   "execution_count": 2,
   "metadata": {},
   "outputs": [
    {
     "name": "stdout",
     "output_type": "stream",
     "text": [
      "\n",
      "del =\n",
      "\n",
      "     2\n",
      "\n",
      "\n"
     ]
    }
   ],
   "source": [
    "del %延时"
   ]
  },
  {
   "cell_type": "code",
   "execution_count": 3,
   "metadata": {},
   "outputs": [
    {
     "name": "stdout",
     "output_type": "stream",
     "text": [
      "\n",
      "na =\n",
      "\n",
      "     3\n",
      "\n",
      "\n"
     ]
    }
   ],
   "source": [
    "na %A多项式阶次"
   ]
  },
  {
   "cell_type": "code",
   "execution_count": 4,
   "metadata": {},
   "outputs": [
    {
     "name": "stdout",
     "output_type": "stream",
     "text": [
      "\n",
      "nb =\n",
      "\n",
      "     1\n",
      "\n",
      "\n"
     ]
    }
   ],
   "source": [
    "nb %B多项式阶次"
   ]
  },
  {
   "cell_type": "code",
   "execution_count": 5,
   "metadata": {},
   "outputs": [
    {
     "name": "stdout",
     "output_type": "stream",
     "text": [
      "\n",
      "nc =\n",
      "\n",
      "     1\n",
      "\n",
      "\n"
     ]
    }
   ],
   "source": [
    "nc %c多项式阶次"
   ]
  },
  {
   "cell_type": "code",
   "execution_count": 9,
   "metadata": {},
   "outputs": [
    {
     "name": "stdout",
     "output_type": "stream",
     "text": [
      "\n",
      "ans =\n",
      "\n",
      "   501     1\n",
      "\n",
      "\n"
     ]
    }
   ],
   "source": [
    "size(u)"
   ]
  },
  {
   "cell_type": "code",
   "execution_count": 6,
   "metadata": {},
   "outputs": [
    {
     "name": "stdout",
     "output_type": "stream",
     "text": [
      "\n"
     ]
    }
   ],
   "source": [
    "n_a = na;\n",
    "n_b = nb+del;\n",
    "n_c = nc;\n",
    "rho = 0.99;"
   ]
  },
  {
   "cell_type": "code",
   "execution_count": 7,
   "metadata": {},
   "outputs": [
    {
     "name": "stdout",
     "output_type": "stream",
     "text": [
      "\n"
     ]
    }
   ],
   "source": [
    "num_p = n_a + n_b + 1 + n_c;\n",
    "\n",
    "theta = 1e-3 * ones(num_p, 1);\n",
    "P = 1e6 * eye(num_p);\n",
    "xi = y;\n",
    "\n",
    "for k = max([n_a n_b n_c])+1:size(u,1)\n",
    "    x = [-y(k-1:-1:k-n_a) ; u(k:-1:k-n_b) ; xi(k-1:-1:k-n_c)];\n",
    "    K = P * x /(rho + x' * P * x);\n",
    "    theta = theta + K * (y(k) - x' * theta);\n",
    "    P = 1/rho * (eye(num_p) - K * x') * P;\n",
    "    xi(k) = y(k) - x' * theta;\n",
    "end\n"
   ]
  },
  {
   "cell_type": "code",
   "execution_count": 8,
   "metadata": {},
   "outputs": [
    {
     "name": "stdout",
     "output_type": "stream",
     "text": [
      "\n",
      "theta =\n",
      "\n",
      "    0.2504\n",
      "    0.2389\n",
      "    0.3518\n",
      "    0.0179\n",
      "   -0.0045\n",
      "    7.9859\n",
      "    7.9909\n",
      "    0.2930\n",
      "\n",
      "\n"
     ]
    }
   ],
   "source": [
    "theta"
   ]
  },
  {
   "cell_type": "markdown",
   "metadata": {},
   "source": [
    "这结果不对啊。。\n",
    "\n",
    "它这阶数是算了延迟后往后推的，所以直接用我的未知阶的算法（其实直接不把那两列加进来更好）要把阶加上去。"
   ]
  },
  {
   "cell_type": "code",
   "execution_count": 9,
   "metadata": {},
   "outputs": [
    {
     "name": "stdout",
     "output_type": "stream",
     "text": [
      "\n"
     ]
    }
   ],
   "source": [
    "for n_a = 1:5\n",
    "    for n_b = 1:5\n",
    "        for n_c = 1:5\n",
    "            %y = data(:,1,di);\n",
    "            %u = data(:,2,di);\n",
    "            [theta, P, xi] = rels(y,u,n_a,n_b,n_c,rho);\n",
    "            aic = get_aic(xi, n_a+n_b+n_c+1);\n",
    "            aic_arr(n_a,n_b,n_c) = aic;\n",
    "        end\n",
    "    end\n",
    "end\n"
   ]
  },
  {
   "cell_type": "code",
   "execution_count": 10,
   "metadata": {},
   "outputs": [
    {
     "name": "stdout",
     "output_type": "stream",
     "text": [
      "\n",
      "aic_arr(:,:,1) =\n",
      "\n",
      "   1.0e+03 *\n",
      "\n",
      "    1.6848    1.5280    1.2846    1.1772    1.0220\n",
      "    1.5966    0.9714    0.7200    0.6921    0.6406\n",
      "    1.5929    0.8984   -0.2810    0.5406    0.5617\n",
      "    1.5834    0.9156    0.5406    0.5423    0.5635\n",
      "    1.5748    0.8890    0.5617    0.5635    0.5653\n",
      "\n",
      "\n",
      "aic_arr(:,:,2) =\n",
      "\n",
      "   1.0e+03 *\n",
      "\n",
      "    1.6398    1.4872    1.2866    1.0776    1.0030\n",
      "    1.5922    0.9302    0.6998    0.6898    0.6335\n",
      "    1.5867    0.8397   -0.2809    0.5426    0.5635\n",
      "    1.5744    0.8761    0.5426    0.5442    0.5654\n",
      "    1.5653    0.8322    0.5635    0.5654    0.5673\n",
      "\n",
      "\n",
      "aic_arr(:,:,3) =\n",
      "\n",
      "   1.0e+03 *\n",
      "\n",
      "    1.6283    1.4726    1.2365    1.0747    0.9804\n",
      "    1.5784    0.9139    0.6700    0.6885    0.6347\n",
      "    1.5702    0.8043   -0.2807    0.5446    0.5655\n",
      "    1.5642    0.8656    0.5446    0.5462    0.5674\n",
      "    1.5523    0.8106    0.5655    0.5674    0.5693\n",
      "\n",
      "\n",
      "aic_arr(:,:,4) =\n",
      "\n",
      "   1.0e+03 *\n",
      "\n",
      "    1.6388    1.4714    1.2460    1.0755    0.9801\n",
      "    1.5647    0.9872    0.8036    0.6888    0.6359\n",
      "    1.5609    0.9148    0.5446    0.5465    0.5674\n",
      "    1.5570    0.8648    0.5465    0.5482    0.5694\n",
      "    1.5532    0.7890    0.5674    0.5694    0.5712\n",
      "\n",
      "\n",
      "aic_arr(:,:,5) =\n",
      "\n",
      "   1.0e+03 *\n",
      "\n",
      "    1.6243    1.4666    1.2356    1.0637    0.9773\n",
      "    1.5646    0.9623    0.7955    0.6883    0.6361\n",
      "    1.5566    0.8937    0.5656    0.5675    0.5694\n",
      "    1.5407    0.8437    0.5675    0.5694    0.5714\n",
      "    1.5422    0.7928    0.5694    0.5714    0.5732\n",
      "\n",
      "\n"
     ]
    }
   ],
   "source": [
    "aic_arr"
   ]
  },
  {
   "cell_type": "code",
   "execution_count": 11,
   "metadata": {},
   "outputs": [
    {
     "name": "stdout",
     "output_type": "stream",
     "text": [
      "\n",
      "min_aic =\n",
      "\n",
      " -280.9552\n",
      "\n",
      "\n",
      "min_a =\n",
      "\n",
      "     3\n",
      "\n",
      "\n",
      "min_b =\n",
      "\n",
      "     3\n",
      "\n",
      "\n",
      "min_c =\n",
      "\n",
      "     1\n",
      "\n",
      "\n"
     ]
    }
   ],
   "source": [
    "[min_aic,min_a,min_b,min_c] = min3d(aic_arr)"
   ]
  },
  {
   "cell_type": "code",
   "execution_count": 12,
   "metadata": {},
   "outputs": [
    {
     "name": "stdout",
     "output_type": "stream",
     "text": [
      "\n",
      "theta =\n",
      "\n",
      "    0.2504\n",
      "    0.2389\n",
      "    0.3518\n",
      "    0.0179\n",
      "   -0.0045\n",
      "    7.9859\n",
      "    7.9909\n",
      "    0.2930\n",
      "\n",
      "\n"
     ]
    }
   ],
   "source": [
    "theta = rels(y,u,3,3,1,rho)"
   ]
  },
  {
   "cell_type": "markdown",
   "metadata": {},
   "source": [
    "接下来我们要画那个迭代参数变化图。话说用最小二乘法的话哪来那个图。。"
   ]
  },
  {
   "cell_type": "code",
   "execution_count": 13,
   "metadata": {},
   "outputs": [
    {
     "name": "stdout",
     "output_type": "stream",
     "text": [
      "\n"
     ]
    }
   ],
   "source": [
    "num_p = n_a + n_b + 1 + n_c;\n",
    "\n",
    "theta = 1e-3 * ones(num_p, 1);\n",
    "P = 1e6 * eye(num_p);\n",
    "xi = y;\n",
    "\n",
    "\n",
    "for k = max([n_a n_b n_c])+1:size(u,1)\n",
    "    x = [-y(k-1:-1:k-n_a) ; u(k:-1:k-n_b) ; xi(k-1:-1:k-n_c)];\n",
    "    K = P * x /(rho + x' * P * x);\n",
    "    theta = theta + K * (y(k) - x' * theta);\n",
    "    thetas(:,k) = theta;\n",
    "    P = 1/rho * (eye(num_p) - K * x') * P;\n",
    "    xi(k) = y(k) - x' * theta;\n",
    "end\n"
   ]
  },
  {
   "cell_type": "code",
   "execution_count": 14,
   "metadata": {},
   "outputs": [
    {
     "name": "stdout",
     "output_type": "stream",
     "text": [
      "\n",
      "ans =\n",
      "\n",
      "    16   501\n",
      "\n",
      "\n"
     ]
    }
   ],
   "source": [
    "size(thetas)"
   ]
  },
  {
   "cell_type": "code",
   "execution_count": 15,
   "metadata": {},
   "outputs": [
    {
     "name": "stdout",
     "output_type": "stream",
     "text": [
      "\n"
     ]
    },
    {
     "data": {
      "image/png": "[encoded data removed]",
      "text/plain": [
       "<IPython.core.display.Image object>"
      ]
     },
     "metadata": {},
     "output_type": "display_data"
    }
   ],
   "source": [
    "figure\n",
    "plot(thetas(1,:));\n",
    "hold on\n",
    "plot(thetas(2,:));\n",
    "plot(thetas(3,:));\n",
    "plot(thetas(6,:));\n",
    "plot(thetas(7,:));\n",
    "plot(thetas(8,:));\n",
    "\n",
    "hold off\n",
    "legend('a1','a2','a3','b0','b1','c1')\n"
   ]
  },
  {
   "cell_type": "markdown",
   "metadata": {},
   "source": [
    "这里我们试试那种轮换搜索d的方法能否得到正确的阶数"
   ]
  },
  {
   "cell_type": "code",
   "execution_count": 7,
   "metadata": {},
   "outputs": [
    {
     "name": "stdout",
     "output_type": "stream",
     "text": [
      "\n"
     ]
    }
   ],
   "source": [
    "min_aic = inf;\n",
    "\n",
    "\n",
    "for n_a = 1:5\n",
    "    for n_b = 0:5\n",
    "        for n_c = 0:5\n",
    "            for d = 0:n_b\n",
    "                [theta, P, xi] = relsd(y, u, n_a, n_b, n_c, d, rho);\n",
    "                %aic = get_aic(xi, n_a+n_b+n_c+1-d);\n",
    "                aic = get_aic(refine_xi(y, u, n_a, n_b, n_c, d, 0.99, theta),n_a+n_b+n_c+1-d);\n",
    "                if(aic < min_aic)\n",
    "                    min_aic = aic;\n",
    "                    min_a = n_a;\n",
    "                    min_b = n_b;\n",
    "                    min_c = n_c;\n",
    "                    min_d = d;\n",
    "                end\n",
    "            end\n",
    "        end\n",
    "    end\n",
    "end\n"
   ]
  },
  {
   "cell_type": "code",
   "execution_count": 8,
   "metadata": {},
   "outputs": [
    {
     "name": "stdout",
     "output_type": "stream",
     "text": [
      "\n",
      "ans =\n",
      "\n",
      "     3     3     1     2\n",
      "\n",
      "\n"
     ]
    }
   ],
   "source": [
    "[min_a,min_b,min_c,min_d]"
   ]
  },
  {
   "cell_type": "code",
   "execution_count": 37,
   "metadata": {},
   "outputs": [
    {
     "name": "stdout",
     "output_type": "stream",
     "text": [
      "\n",
      "ans =\n",
      "\n",
      "     8   501\n",
      "\n",
      "\n",
      "theta =\n",
      "\n",
      "    0.2504\n",
      "    0.2389\n",
      "    0.3518\n",
      "    0.0179\n",
      "   -0.0045\n",
      "    7.9859\n",
      "    7.9909\n",
      "    0.2930\n",
      "\n",
      "\n",
      "aic =\n",
      "\n",
      " -280.9552\n",
      "\n",
      "Warning: Ignoring extra legend entries.\n",
      "> In legend>set_children_and_strings (line 674)\n",
      "  In legend>make_legend (line 346)\n",
      "  In legend (line 294)\n",
      "  In plot_trace (line 9)\n",
      "\n"
     ]
    },
    {
     "data": {
      "image/png": "[encoded data removed]",
      "text/plain": [
       "<IPython.core.display.Image object>"
      ]
     },
     "metadata": {},
     "output_type": "display_data"
    }
   ],
   "source": [
    "n_a = min_a;\n",
    "n_b = min_b;\n",
    "n_c = min_c;\n",
    "d = min_d;\n",
    "\n",
    "clear thetas\n",
    "\n",
    "[theta, P, xi, thetas] = relsd(y, u, n_a, n_b, n_c, d, 0.99);\n",
    "size(thetas)\n",
    "theta\n",
    "aic = get_aic(xi, n_a+n_b+n_c+1-d)\n",
    "\n",
    "plot_trace(thetas, 1:length(theta), [\"a1\",\"a2\",\"a3\",\"b0\",\"b1\",\"b2\",\"c1\",\"c2\",\"c3\"])\n"
   ]
  },
  {
   "cell_type": "code",
   "execution_count": 39,
   "metadata": {},
   "outputs": [
    {
     "name": "stdout",
     "output_type": "stream",
     "text": [
      "\n"
     ]
    },
    {
     "data": {
      "image/png": "[encoded data removed]",
      "text/plain": [
       "<IPython.core.display.Image object>"
      ]
     },
     "metadata": {},
     "output_type": "display_data"
    }
   ],
   "source": [
    "plot(xi)"
   ]
  },
  {
   "cell_type": "code",
   "execution_count": 44,
   "metadata": {},
   "outputs": [
    {
     "name": "stdout",
     "output_type": "stream",
     "text": [
      "\n"
     ]
    },
    {
     "data": {
      "image/png": "[encoded data removed]",
      "text/plain": [
       "<IPython.core.display.Image object>"
      ]
     },
     "metadata": {},
     "output_type": "display_data"
    }
   ],
   "source": [
    "plot(refine_xi(y, u, n_a, n_b, n_c, d, 0.99, theta))"
   ]
  },
  {
   "cell_type": "code",
   "execution_count": 45,
   "metadata": {},
   "outputs": [
    {
     "name": "stdout",
     "output_type": "stream",
     "text": [
      "\n",
      "ans =\n",
      "\n",
      " -421.2412\n",
      "\n",
      "\n"
     ]
    }
   ],
   "source": [
    "get_aic(refine_xi(y, u, n_a, n_b, n_c, d, 0.99, theta),n_a+n_b+n_c+1-d)"
   ]
  },
  {
   "cell_type": "code",
   "execution_count": 46,
   "metadata": {},
   "outputs": [
    {
     "name": "stdout",
     "output_type": "stream",
     "text": [
      "\n",
      "mu =\n",
      "\n",
      "    0.0088\n",
      "\n",
      "\n",
      "sd =\n",
      "\n",
      "    0.1339\n",
      "\n",
      "\n",
      "logprob =\n",
      "\n",
      "  296.9552\n",
      "\n",
      "\n",
      "aic =\n",
      "\n",
      " -280.9552\n",
      "\n",
      "\n"
     ]
    }
   ],
   "source": [
    "k = n_a+n_b+n_c+1-d;\n",
    "\n",
    "mu = mean(xi)\n",
    "sd = std(xi)\n",
    "logprob = -sum(((xi - mu)/sd).^2/2) - log(sqrt(2*pi)*sd)*size(xi,1)\n",
    "aic = 2*k - logprob\n"
   ]
  },
  {
   "cell_type": "code",
   "execution_count": 47,
   "metadata": {},
   "outputs": [
    {
     "name": "stdout",
     "output_type": "stream",
     "text": [
      "\n",
      "ans =\n",
      "\n",
      "     6   501\n",
      "\n",
      "\n",
      "theta =\n",
      "\n",
      "    0.2510\n",
      "    0.2386\n",
      "    0.3521\n",
      "    7.9851\n",
      "    7.9943\n",
      "    0.3047\n",
      "\n",
      "\n",
      "aic =\n",
      "\n",
      " -278.9017\n",
      "\n",
      "Warning: Ignoring extra legend entries.\n",
      "> In legend>set_children_and_strings (line 674)\n",
      "  In legend>make_legend (line 346)\n",
      "  In legend (line 294)\n",
      "  In plot_trace (line 9)\n",
      "\n"
     ]
    },
    {
     "data": {
      "image/png": "[encoded data removed]",
      "text/plain": [
       "<IPython.core.display.Image object>"
      ]
     },
     "metadata": {},
     "output_type": "display_data"
    }
   ],
   "source": [
    "n_a = 3;\n",
    "n_b = 3;\n",
    "n_c = 1;\n",
    "d = 2;\n",
    "\n",
    "clear thetas\n",
    "\n",
    "[theta, P, xi, thetas] = relsd(y, u, n_a, n_b, n_c, d, 0.99);\n",
    "size(thetas)\n",
    "theta\n",
    "aic = get_aic(xi, n_a+n_b+n_c+1-d)\n",
    "\n",
    "plot_trace(thetas, 1:length(theta), [\"a1\",\"a2\",\"a3\",\"b0\",\"b1\",\"b2\",\"c1\",\"c2\",\"c3\"])\n"
   ]
  },
  {
   "cell_type": "code",
   "execution_count": 48,
   "metadata": {},
   "outputs": [
    {
     "name": "stdout",
     "output_type": "stream",
     "text": [
      "\n"
     ]
    },
    {
     "data": {
      "image/png": "[encoded data removed]",
      "text/plain": [
       "<IPython.core.display.Image object>"
      ]
     },
     "metadata": {},
     "output_type": "display_data"
    }
   ],
   "source": [
    "plot(xi)"
   ]
  },
  {
   "cell_type": "code",
   "execution_count": 49,
   "metadata": {},
   "outputs": [
    {
     "name": "stdout",
     "output_type": "stream",
     "text": [
      "\n"
     ]
    },
    {
     "data": {
      "image/png": "[encoded data removed]",
      "text/plain": [
       "<IPython.core.display.Image object>"
      ]
     },
     "metadata": {},
     "output_type": "display_data"
    }
   ],
   "source": [
    "plot(refine_xi(y, u, n_a, n_b, n_c, d, 0.99, theta))"
   ]
  },
  {
   "cell_type": "code",
   "execution_count": 50,
   "metadata": {},
   "outputs": [
    {
     "name": "stdout",
     "output_type": "stream",
     "text": [
      "\n",
      "ans =\n",
      "\n",
      " -424.6867\n",
      "\n",
      "\n"
     ]
    }
   ],
   "source": [
    "get_aic(refine_xi(y, u, n_a, n_b, n_c, d, 0.99, theta), n_a+n_b+n_c+1-d)"
   ]
  },
  {
   "cell_type": "code",
   "execution_count": 32,
   "metadata": {},
   "outputs": [
    {
     "name": "stdout",
     "output_type": "stream",
     "text": [
      "\n",
      "mu =\n",
      "\n",
      "    0.0095\n",
      "\n",
      "\n",
      "sd =\n",
      "\n",
      "    0.1355\n",
      "\n",
      "\n",
      "logprob =\n",
      "\n",
      "  290.9017\n",
      "\n",
      "\n",
      "aic =\n",
      "\n",
      " -278.9017\n",
      "\n",
      "\n"
     ]
    }
   ],
   "source": [
    "k = n_a+n_b+n_c+1-d;\n",
    "\n",
    "mu = mean(xi)\n",
    "sd = std(xi)\n",
    "logprob = -sum(((xi - mu)/sd).^2/2) - log(sqrt(2*pi)*sd)*size(xi,1)\n",
    "aic = 2*k - logprob\n"
   ]
  },
  {
   "cell_type": "code",
   "execution_count": 31,
   "metadata": {},
   "outputs": [
    {
     "name": "stdout",
     "output_type": "stream",
     "text": [
      "\n",
      "k =\n",
      "\n",
      "   501\n",
      "\n",
      "\n"
     ]
    }
   ],
   "source": [
    "k"
   ]
  },
  {
   "cell_type": "code",
   "execution_count": null,
   "metadata": {},
   "outputs": [],
   "source": []
  }
 ],
 "metadata": {
  "kernelspec": {
   "display_name": "Matlab",
   "language": "matlab",
   "name": "matlab"
  },
  "language_info": {
   "codemirror_mode": "octave",
   "file_extension": ".m",
   "help_links": [
    {
     "text": "MetaKernel Magics",
     "url": "https://github.com/calysto/metakernel/blob/master/metakernel/magics/README.md"
    }
   ],
   "mimetype": "text/x-octave",
   "name": "matlab",
   "version": "0.15.1"
  }
 },
 "nbformat": 4,
 "nbformat_minor": 2
}
