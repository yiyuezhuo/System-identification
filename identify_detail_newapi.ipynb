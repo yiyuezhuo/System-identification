{
 "cells": [
  {
   "cell_type": "code",
   "execution_count": 1,
   "metadata": {},
   "outputs": [
    {
     "name": "stdout",
     "output_type": "stream",
     "text": [
      "\n"
     ]
    }
   ],
   "source": [
    "i = 2;\n",
    "load(\"2018级研究生小作业-阶已知线性差分方程输入输出数据\\data00\"+ i +\"_OrderKnown\");\n"
   ]
  },
  {
   "cell_type": "code",
   "execution_count": 4,
   "metadata": {},
   "outputs": [
    {
     "name": "stdout",
     "output_type": "stream",
     "text": [
      "\n",
      "na =\n",
      "\n",
      "     3\n",
      "\n",
      "\n",
      "nb =\n",
      "\n",
      "     1\n",
      "\n",
      "\n",
      "nc =\n",
      "\n",
      "     1\n",
      "\n",
      "\n",
      "del =\n",
      "\n",
      "     2\n",
      "\n",
      "\n"
     ]
    }
   ],
   "source": [
    "na %A多项式阶次\n",
    "nb %B多项式阶次\n",
    "nc %c多项式阶次\n",
    "del %延时\n"
   ]
  },
  {
   "cell_type": "code",
   "execution_count": 19,
   "metadata": {},
   "outputs": [
    {
     "name": "stdout",
     "output_type": "stream",
     "text": [
      "\n"
     ]
    }
   ],
   "source": [
    "clear rels_search_abc"
   ]
  },
  {
   "cell_type": "code",
   "execution_count": 48,
   "metadata": {},
   "outputs": [
    {
     "name": "stdout",
     "output_type": "stream",
     "text": [
      "\n",
      "min_aic =\n",
      "\n",
      " -421.2412\n",
      "\n",
      "\n",
      "min_a =\n",
      "\n",
      "     3\n",
      "\n",
      "\n",
      "min_b =\n",
      "\n",
      "     3\n",
      "\n",
      "\n",
      "min_c =\n",
      "\n",
      "     1\n",
      "\n",
      "\n",
      "aic_arr(:,:,1) =\n",
      "\n",
      "   1.0e+04 *\n",
      "\n",
      "    1.1317    0.1553    0.1545    0.1202    0.1034\n",
      "    0.1622    0.1028    0.0758    0.0547    0.0404\n",
      "    0.1625    0.0956   -0.0421   -0.0405   -0.0416\n",
      "    0.1619    0.0948   -0.0405   -0.0412   -0.0414\n",
      "    0.1620    0.0882   -0.0416   -0.0414   -0.0416\n",
      "\n",
      "\n",
      "aic_arr(:,:,2) =\n",
      "\n",
      "   1.0e+04 *\n",
      "\n",
      "    0.2065    0.1546    1.1090    0.1264    0.1065\n",
      "    0.1623    0.0937    0.0708    0.0508    0.0345\n",
      "    0.1627    0.0820   -0.0420   -0.0406   -0.0418\n",
      "    0.1598    0.0762   -0.0406   -0.0415   -0.0416\n",
      "    0.1597    0.0713   -0.0418   -0.0416   -0.0414\n",
      "\n",
      "\n",
      "aic_arr(:,:,3) =\n",
      "\n",
      "   1.0e+03 *\n",
      "\n",
      "    1.7062    1.5729    1.3449    1.1446    1.0066\n",
      "    1.6174    0.9585    0.7249    0.5183    0.3501\n",
      "    1.6214    0.8738   -0.4156   -0.4043   -0.4146\n",
      "    1.5963    0.7875   -0.4043   -0.4130   -0.4119\n",
      "    1.6107    0.7436   -0.4146   -0.4119   -0.4103\n",
      "\n",
      "\n",
      "aic_arr(:,:,4) =\n",
      "\n",
      "   1.0e+03 *\n",
      "\n",
      "    1.7023    1.5296    1.3174    1.1414    1.0029\n",
      "    1.6014    0.9464    0.7177    0.5113    0.3551\n",
      "    1.6056    0.8527   -0.4044   -0.4023   -0.4120\n",
      "    1.6071    0.7704   -0.4022   -0.4109   -0.4089\n",
      "    1.5892    0.8187   -0.4120   -0.4089   -0.4073\n",
      "\n",
      "\n",
      "aic_arr(:,:,5) =\n",
      "\n",
      "   1.0e+03 *\n",
      "\n",
      "    1.6601    1.5262    1.2782    1.1210    1.0037\n",
      "    1.6035    0.9534    0.7245    0.5178    0.3559\n",
      "    1.6105    0.8619   -0.4140   -0.4125   -0.4101\n",
      "    1.6042    0.7986   -0.4125   -0.4093   -0.4069\n",
      "    1.6052    0.7572   -0.4101   -0.4069   -0.4050\n",
      "\n",
      "\n"
     ]
    }
   ],
   "source": [
    "[min_aic, min_a, min_b, min_c , aic_arr] = rels_search_abc(y, u, 1:5, 1:5, 1:5, 0.99)"
   ]
  },
  {
   "cell_type": "code",
   "execution_count": 49,
   "metadata": {},
   "outputs": [
    {
     "name": "stdout",
     "output_type": "stream",
     "text": [
      "\n",
      "min_aic =\n",
      "\n",
      " -424.6867\n",
      "\n",
      "\n",
      "min_a =\n",
      "\n",
      "     3\n",
      "\n",
      "\n",
      "min_b =\n",
      "\n",
      "     1\n",
      "\n",
      "\n",
      "min_c =\n",
      "\n",
      "     1\n",
      "\n",
      "\n",
      "min_d =\n",
      "\n",
      "     2\n",
      "\n",
      "\n"
     ]
    }
   ],
   "source": [
    "[min_aic, min_a, min_b, min_c, min_d] = rels_search_abcd(y, u, 1:5, 1:5, 1:5, 1:5, 0.99)"
   ]
  },
  {
   "cell_type": "code",
   "execution_count": 12,
   "metadata": {},
   "outputs": [
    {
     "name": "stdout",
     "output_type": "stream",
     "text": [
      "\n"
     ]
    }
   ],
   "source": [
    "for n_a = 1:5\n",
    "    for n_b = 1:5\n",
    "        for n_c = 1:5\n",
    "            %y = data(:,1,di);\n",
    "            %u = data(:,2,di);\n",
    "            [theta, P, xi] = rels(y,u,n_a,n_b,n_c,0.99);\n",
    "            aic = get_aic(xi, n_a+n_b+n_c+1);\n",
    "            aic_arr(n_a,n_b,n_c) = aic;\n",
    "        end\n",
    "    end\n",
    "end\n"
   ]
  },
  {
   "cell_type": "code",
   "execution_count": 13,
   "metadata": {},
   "outputs": [
    {
     "name": "stdout",
     "output_type": "stream",
     "text": [
      "\n",
      "aic_arr(:,:,1) =\n",
      "\n",
      "   1.0e+03 *\n",
      "\n",
      "    1.6848    1.5280    1.2846    1.1772    1.0220\n",
      "    1.5966    0.9714    0.7200    0.6921    0.6406\n",
      "    1.5929    0.8984   -0.2810    0.5406    0.5617\n",
      "    1.5834    0.9156    0.5406    0.5423    0.5635\n",
      "    1.5748    0.8890    0.5617    0.5635    0.5653\n",
      "\n",
      "\n",
      "aic_arr(:,:,2) =\n",
      "\n",
      "   1.0e+03 *\n",
      "\n",
      "    1.6398    1.4872    1.2866    1.0776    1.0030\n",
      "    1.5922    0.9302    0.6998    0.6898    0.6335\n",
      "    1.5867    0.8397   -0.2809    0.5426    0.5635\n",
      "    1.5744    0.8761    0.5426    0.5442    0.5654\n",
      "    1.5653    0.8322    0.5635    0.5654    0.5673\n",
      "\n",
      "\n",
      "aic_arr(:,:,3) =\n",
      "\n",
      "   1.0e+03 *\n",
      "\n",
      "    1.6283    1.4726    1.2365    1.0747    0.9804\n",
      "    1.5784    0.9139    0.6700    0.6885    0.6347\n",
      "    1.5702    0.8043   -0.2807    0.5446    0.5655\n",
      "    1.5642    0.8656    0.5446    0.5462    0.5674\n",
      "    1.5523    0.8106    0.5655    0.5674    0.5693\n",
      "\n",
      "\n",
      "aic_arr(:,:,4) =\n",
      "\n",
      "   1.0e+03 *\n",
      "\n",
      "    1.6388    1.4714    1.2460    1.0755    0.9801\n",
      "    1.5647    0.9872    0.8036    0.6888    0.6359\n",
      "    1.5609    0.9148    0.5446    0.5465    0.5674\n",
      "    1.5570    0.8648    0.5465    0.5482    0.5694\n",
      "    1.5532    0.7890    0.5674    0.5694    0.5712\n",
      "\n",
      "\n",
      "aic_arr(:,:,5) =\n",
      "\n",
      "   1.0e+03 *\n",
      "\n",
      "    1.6243    1.4666    1.2356    1.0637    0.9773\n",
      "    1.5646    0.9623    0.7955    0.6883    0.6361\n",
      "    1.5566    0.8937    0.5656    0.5675    0.5694\n",
      "    1.5407    0.8437    0.5675    0.5694    0.5714\n",
      "    1.5422    0.7928    0.5694    0.5714    0.5732\n",
      "\n",
      "\n"
     ]
    }
   ],
   "source": [
    "aic_arr"
   ]
  },
  {
   "cell_type": "code",
   "execution_count": 15,
   "metadata": {},
   "outputs": [
    {
     "name": "stdout",
     "output_type": "stream",
     "text": [
      "\n",
      "min_aic =\n",
      "\n",
      " -280.9552\n",
      "\n",
      "\n",
      "min_a =\n",
      "\n",
      "     3\n",
      "\n",
      "\n",
      "min_b =\n",
      "\n",
      "     3\n",
      "\n",
      "\n",
      "min_c =\n",
      "\n",
      "     1\n",
      "\n",
      "\n"
     ]
    }
   ],
   "source": [
    "[min_aic,min_a,min_b,min_c] = min3d(aic_arr)\n"
   ]
  },
  {
   "cell_type": "code",
   "execution_count": 43,
   "metadata": {},
   "outputs": [
    {
     "name": "stdout",
     "output_type": "stream",
     "text": [
      "\n"
     ]
    }
   ],
   "source": [
    "clear aic_arr\n",
    "\n",
    "for n_a = 1:5\n",
    "    for n_b = 1:5\n",
    "        for n_c = 1:5\n",
    "            %y = data(:,1,di);\n",
    "            %u = data(:,2,di);\n",
    "            [theta, aic] = relsf(y,u,n_a,n_b,n_c,0,0.99);\n",
    "            %aic = get_aic(xi, n_a+n_b+n_c+1);\n",
    "            aic_arr(n_a,n_b,n_c) = aic;\n",
    "        end\n",
    "    end\n",
    "end\n"
   ]
  },
  {
   "cell_type": "code",
   "execution_count": 44,
   "metadata": {
    "scrolled": false
   },
   "outputs": [
    {
     "name": "stdout",
     "output_type": "stream",
     "text": [
      "\n",
      "aic_arr(:,:,1) =\n",
      "\n",
      "   1.0e+04 *\n",
      "\n",
      "    1.1317    0.1553    0.1545    0.1202    0.1034\n",
      "    0.1622    0.1028    0.0758    0.0547    0.0404\n",
      "    0.1625    0.0956   -0.0421   -0.0405   -0.0416\n",
      "    0.1619    0.0948   -0.0405   -0.0412   -0.0414\n",
      "    0.1620    0.0882   -0.0416   -0.0414   -0.0416\n",
      "\n",
      "\n",
      "aic_arr(:,:,2) =\n",
      "\n",
      "   1.0e+04 *\n",
      "\n",
      "    0.2065    0.1546    1.1090    0.1264    0.1065\n",
      "    0.1623    0.0937    0.0708    0.0508    0.0345\n",
      "    0.1627    0.0820   -0.0420   -0.0406   -0.0418\n",
      "    0.1598    0.0762   -0.0406   -0.0415   -0.0416\n",
      "    0.1597    0.0713   -0.0418   -0.0416   -0.0414\n",
      "\n",
      "\n",
      "aic_arr(:,:,3) =\n",
      "\n",
      "   1.0e+03 *\n",
      "\n",
      "    1.7062    1.5729    1.3449    1.1446    1.0066\n",
      "    1.6174    0.9585    0.7249    0.5183    0.3501\n",
      "    1.6214    0.8738   -0.4156   -0.4043   -0.4146\n",
      "    1.5963    0.7875   -0.4043   -0.4130   -0.4119\n",
      "    1.6107    0.7436   -0.4146   -0.4119   -0.4103\n",
      "\n",
      "\n",
      "aic_arr(:,:,4) =\n",
      "\n",
      "   1.0e+03 *\n",
      "\n",
      "    1.7023    1.5296    1.3174    1.1414    1.0029\n",
      "    1.6014    0.9464    0.7177    0.5113    0.3551\n",
      "    1.6056    0.8527   -0.4044   -0.4023   -0.4120\n",
      "    1.6071    0.7704   -0.4022   -0.4109   -0.4089\n",
      "    1.5892    0.8187   -0.4120   -0.4089   -0.4073\n",
      "\n",
      "\n",
      "aic_arr(:,:,5) =\n",
      "\n",
      "   1.0e+03 *\n",
      "\n",
      "    1.6601    1.5262    1.2782    1.1210    1.0037\n",
      "    1.6035    0.9534    0.7245    0.5178    0.3559\n",
      "    1.6105    0.8619   -0.4140   -0.4125   -0.4101\n",
      "    1.6042    0.7986   -0.4125   -0.4093   -0.4069\n",
      "    1.6052    0.7572   -0.4101   -0.4069   -0.4050\n",
      "\n",
      "\n"
     ]
    }
   ],
   "source": [
    "aic_arr"
   ]
  },
  {
   "cell_type": "code",
   "execution_count": 45,
   "metadata": {},
   "outputs": [
    {
     "name": "stdout",
     "output_type": "stream",
     "text": [
      "\n",
      "min_aic =\n",
      "\n",
      " -421.2412\n",
      "\n",
      "\n",
      "min_a =\n",
      "\n",
      "     3\n",
      "\n",
      "\n",
      "min_b =\n",
      "\n",
      "     3\n",
      "\n",
      "\n",
      "min_c =\n",
      "\n",
      "     1\n",
      "\n",
      "\n"
     ]
    }
   ],
   "source": [
    "[min_aic,min_a,min_b,min_c] = min3d(aic_arr)\n"
   ]
  },
  {
   "cell_type": "code",
   "execution_count": 27,
   "metadata": {},
   "outputs": [
    {
     "name": "stdout",
     "output_type": "stream",
     "text": [
      "\n"
     ]
    }
   ],
   "source": [
    "range_na = 1:5;\n",
    "range_nb = 1:5;\n",
    "range_nc = 1:5;\n",
    "range_nd = 1:5;\n",
    "rho = 0.99;"
   ]
  },
  {
   "cell_type": "code",
   "execution_count": 38,
   "metadata": {},
   "outputs": [
    {
     "name": "stdout",
     "output_type": "stream",
     "text": [
      "\n"
     ]
    }
   ],
   "source": [
    "clear relsf"
   ]
  },
  {
   "cell_type": "code",
   "execution_count": 46,
   "metadata": {},
   "outputs": [
    {
     "name": "stdout",
     "output_type": "stream",
     "text": [
      "\n"
     ]
    }
   ],
   "source": [
    "clear aic_arr\n",
    "\n",
    "min_aic = inf;\n",
    "for n_a = range_na\n",
    "    for n_b = range_nb\n",
    "        for n_c = range_nc\n",
    "            for n_d = range_nd\n",
    "                [theta, aic] = relsf(y,u,n_a,n_b,n_c,n_d,rho);\n",
    "                aic_arr(n_a,n_b,n_c,n_d) = aic;\n",
    "                if(aic < min_aic)\n",
    "                    min_aic = aic;\n",
    "                    min_a = n_a;\n",
    "                    min_b = n_b;\n",
    "                    min_c = n_c;\n",
    "                    min_d = n_d;\n",
    "                end\n",
    "            end\n",
    "        end\n",
    "    end\n",
    "end\n"
   ]
  },
  {
   "cell_type": "code",
   "execution_count": 47,
   "metadata": {},
   "outputs": [
    {
     "name": "stdout",
     "output_type": "stream",
     "text": [
      "\n",
      "min_a =\n",
      "\n",
      "     3\n",
      "\n",
      "\n",
      "min_b =\n",
      "\n",
      "     1\n",
      "\n",
      "\n",
      "min_c =\n",
      "\n",
      "     1\n",
      "\n",
      "\n",
      "min_d =\n",
      "\n",
      "     2\n",
      "\n",
      "\n"
     ]
    }
   ],
   "source": [
    "min_a\n",
    "min_b\n",
    "min_c\n",
    "min_d"
   ]
  },
  {
   "cell_type": "code",
   "execution_count": null,
   "metadata": {},
   "outputs": [],
   "source": []
  }
 ],
 "metadata": {
  "kernelspec": {
   "display_name": "Matlab",
   "language": "matlab",
   "name": "matlab"
  },
  "language_info": {
   "codemirror_mode": "octave",
   "file_extension": ".m",
   "help_links": [
    {
     "text": "MetaKernel Magics",
     "url": "https://github.com/calysto/metakernel/blob/master/metakernel/magics/README.md"
    }
   ],
   "mimetype": "text/x-octave",
   "name": "matlab",
   "version": "0.15.1"
  }
 },
 "nbformat": 4,
 "nbformat_minor": 2
}
