{
 "cells": [
  {
   "cell_type": "code",
   "execution_count": 1,
   "metadata": {},
   "outputs": [
    {
     "name": "stdout",
     "output_type": "stream",
     "text": [
      "\n"
     ]
    }
   ],
   "source": [
    "num_data = 5;"
   ]
  },
  {
   "cell_type": "code",
   "execution_count": 5,
   "metadata": {},
   "outputs": [
    {
     "name": "stdout",
     "output_type": "stream",
     "text": [
      "\n"
     ]
    }
   ],
   "source": [
    "for i=1:num_data\n",
    "    load(\"2018级研究生小作业-阶未知线性差分方程输入输出数据\\data00\"+ i +\"_OrderUnknown\");\n",
    "    data(:,1,i) = y;\n",
    "    data(:,2,i) = u;\n",
    "end"
   ]
  },
  {
   "cell_type": "code",
   "execution_count": 6,
   "metadata": {},
   "outputs": [
    {
     "name": "stdout",
     "output_type": "stream",
     "text": [
      "\n",
      "ans =\n",
      "\n",
      "   501     2     5\n",
      "\n",
      "\n"
     ]
    }
   ],
   "source": [
    "size(data)"
   ]
  },
  {
   "cell_type": "code",
   "execution_count": 7,
   "metadata": {},
   "outputs": [
    {
     "name": "stdout",
     "output_type": "stream",
     "text": [
      "\n"
     ]
    }
   ],
   "source": [
    "rho = 0.99;\n",
    "\n",
    "\n",
    "for di = 1:num_data\n",
    "    for n_a = 1:5\n",
    "        for n_b = 1:5\n",
    "            for n_c = 1:5\n",
    "                y = data(:,1,di);\n",
    "                u = data(:,2,di);\n",
    "                [theta, P, xi] = rels(y,u,n_a,n_b,n_c,rho);\n",
    "                aic = get_aic(xi, n_a+n_b+n_c+1);\n",
    "                aic_arr(n_a,n_b,n_c,di) = aic;\n",
    "            end\n",
    "        end\n",
    "    end\n",
    "end"
   ]
  },
  {
   "cell_type": "code",
   "execution_count": 8,
   "metadata": {},
   "outputs": [
    {
     "name": "stdout",
     "output_type": "stream",
     "text": [
      "\n",
      "ans(:,:,1) =\n",
      "\n",
      "   1.0e+03 *\n",
      "\n",
      "    1.4690    1.2352    1.2236    1.0698    1.1761\n",
      "    1.3067    1.3000    1.1988    1.0878    1.1679\n",
      "    1.2573    1.2865    0.7198    0.8727    1.0803\n",
      "    1.2602    1.2366    0.8727    0.8745    1.0822\n",
      "    1.2416    1.2631    1.0803    1.0822    1.0842\n",
      "\n",
      "\n",
      "ans(:,:,2) =\n",
      "\n",
      "   1.0e+03 *\n",
      "\n",
      "    1.4170    1.2491    1.1607    1.0477    1.1633\n",
      "    1.2516    1.2432    1.1437    1.0634    1.1573\n",
      "    1.2772    1.2741    0.7217    0.8747    1.0823\n",
      "    1.1862    1.1800    0.8747    0.8765    1.0842\n",
      "    1.2434    1.2405    1.0823    1.0842    1.0862\n",
      "\n",
      "\n",
      "ans(:,:,3) =\n",
      "\n",
      "   1.0e+03 *\n",
      "\n",
      "    1.4148    1.2342    1.1540    1.0432    1.1645\n",
      "    1.2765    1.2692    1.1413    1.0632    1.1573\n",
      "    1.2625    1.2584    0.7237    0.8767    1.0843\n",
      "    1.1884    1.1709    0.8767    0.8785    1.0862\n",
      "    1.2029    1.2211    1.0843    1.0862    1.0882\n",
      "\n",
      "\n",
      "ans(:,:,4) =\n",
      "\n",
      "   1.0e+03 *\n",
      "\n",
      "    1.4228    1.2480    1.1872    1.0373    1.1644\n",
      "    1.2862    1.2822    1.1750    1.0610    1.1577\n",
      "    1.2738    1.2757    0.8767    0.8787    1.0863\n",
      "    1.1719    1.1640    0.8787    0.8805    1.0882\n",
      "    1.2126    1.2243    1.0863    1.0882    1.0902\n",
      "\n",
      "\n",
      "ans(:,:,5) =\n",
      "\n",
      "   1.0e+03 *\n",
      "\n",
      "    1.4605    1.3027    1.2720    1.1662    1.1658\n",
      "    1.3444    1.3380    1.2601    1.1819    1.1592\n",
      "    1.3281    1.3266    1.0843    1.0863    1.0883\n",
      "    1.2613    1.2519    1.0863    1.0882    1.0902\n",
      "    1.2053    1.2208    1.0883    1.0902    1.0922\n",
      "\n",
      "\n"
     ]
    }
   ],
   "source": [
    "aic_arr(:,:,:,1)"
   ]
  },
  {
   "cell_type": "code",
   "execution_count": 9,
   "metadata": {},
   "outputs": [
    {
     "name": "stdout",
     "output_type": "stream",
     "text": [
      "\n",
      "min_aic =\n",
      "\n",
      "  719.7554\n",
      "\n",
      "\n",
      "min_a =\n",
      "\n",
      "     3\n",
      "\n",
      "\n",
      "min_b =\n",
      "\n",
      "     3\n",
      "\n",
      "\n",
      "min_c =\n",
      "\n",
      "     1\n",
      "\n",
      "\n"
     ]
    }
   ],
   "source": [
    "[min_aic,min_a,min_b,min_c] = min3d(aic_arr(:,:,:,1))"
   ]
  },
  {
   "cell_type": "code",
   "execution_count": 10,
   "metadata": {},
   "outputs": [
    {
     "name": "stdout",
     "output_type": "stream",
     "text": [
      "\n",
      "theta =\n",
      "\n",
      "    1.0005\n",
      "    0.6018\n",
      "    0.5013\n",
      "   -0.0121\n",
      "    9.9898\n",
      "    4.0048\n",
      "    8.0108\n",
      "    0.0753\n",
      "\n",
      "\n"
     ]
    }
   ],
   "source": [
    "theta = rels(data(:,1,1),data(:,2,1),3,3,1,rho)"
   ]
  },
  {
   "cell_type": "code",
   "execution_count": 11,
   "metadata": {},
   "outputs": [
    {
     "name": "stdout",
     "output_type": "stream",
     "text": [
      "\n",
      "ans(:,:,1) =\n",
      "\n",
      "   1.0e+03 *\n",
      "\n",
      "    1.2384    1.1642    1.0897    1.0625    1.0743\n",
      "    1.1933    1.0288    1.0055    1.0041    0.9988\n",
      "    1.0405    0.5323   -0.4394   -0.0226    0.0990\n",
      "    1.0436    0.2254   -0.0226   -0.0230    0.0995\n",
      "    1.0322    0.1581    0.0991    0.0996    0.1003\n",
      "\n",
      "\n",
      "ans(:,:,2) =\n",
      "\n",
      "   1.0e+03 *\n",
      "\n",
      "    1.2193    1.1145    1.0906    1.0502    1.0495\n",
      "    1.1813    1.0170    0.9846    0.9809    0.9833\n",
      "    1.0377    0.5258   -0.4415   -0.0212    0.1007\n",
      "    1.0401    0.2257   -0.0212   -0.0217    0.1010\n",
      "    1.0270    0.1591    0.1007    0.1010    0.1021\n",
      "\n",
      "\n",
      "ans(:,:,3) =\n",
      "\n",
      "   1.0e+03 *\n",
      "\n",
      "    1.1901    1.0954    1.0926    1.0508    0.9913\n",
      "    1.1493    0.9498    0.9320    0.9358    0.9258\n",
      "    1.0343    0.5217   -0.4448   -0.0194    0.1025\n",
      "    1.0377    0.2249   -0.0194   -0.0200    0.1026\n",
      "    1.0137    0.1603    0.1026    0.1026    0.1039\n",
      "\n",
      "\n",
      "ans(:,:,4) =\n",
      "\n",
      "   1.0e+03 *\n",
      "\n",
      "    1.1455    1.0258    1.0200    0.9627    0.9622\n",
      "    1.1292    0.9049    0.8887    0.8876    0.8701\n",
      "    1.0373    0.5465   -0.0189   -0.0177    0.1043\n",
      "    1.0335    0.2250   -0.0178   -0.0183    0.1043\n",
      "    1.0097    0.1618    0.1044    0.1044    0.1057\n",
      "\n",
      "\n",
      "ans(:,:,5) =\n",
      "\n",
      "   1.0e+03 *\n",
      "\n",
      "    1.1219    1.0234    0.9694    0.9418    0.9544\n",
      "    1.1061    0.8827    0.8530    0.8550    0.8419\n",
      "    1.0348    0.5544    0.1034    0.1049    0.1061\n",
      "    1.0322    0.2757    0.1048    0.1049    0.1061\n",
      "    1.0072    0.1632    0.1061    0.1062    0.1075\n",
      "\n",
      "\n"
     ]
    }
   ],
   "source": [
    "aic_arr(:,:,:,2)"
   ]
  },
  {
   "cell_type": "code",
   "execution_count": 13,
   "metadata": {},
   "outputs": [
    {
     "name": "stdout",
     "output_type": "stream",
     "text": [
      "\n",
      "min_aic =\n",
      "\n",
      " -444.8063\n",
      "\n",
      "\n",
      "min_a =\n",
      "\n",
      "     3\n",
      "\n",
      "\n",
      "min_b =\n",
      "\n",
      "     3\n",
      "\n",
      "\n",
      "min_c =\n",
      "\n",
      "     3\n",
      "\n",
      "\n"
     ]
    }
   ],
   "source": [
    "[min_aic,min_a,min_b,min_c] = min3d(aic_arr(:,:,:,2))"
   ]
  },
  {
   "cell_type": "code",
   "execution_count": 14,
   "metadata": {},
   "outputs": [
    {
     "name": "stdout",
     "output_type": "stream",
     "text": [
      "\n",
      "theta =\n",
      "\n",
      "    0.8962\n",
      "    0.7480\n",
      "    0.8001\n",
      "   -0.0071\n",
      "   -0.0087\n",
      "    2.0018\n",
      "    0.9857\n",
      "    0.3073\n",
      "   -0.1475\n",
      "    0.0390\n",
      "\n",
      "\n"
     ]
    }
   ],
   "source": [
    "theta = rels(data(:,1,2),data(:,2,2),3,3,3,rho)"
   ]
  },
  {
   "cell_type": "markdown",
   "metadata": {},
   "source": [
    "你们给我做的这个结果啊。。excited!"
   ]
  },
  {
   "cell_type": "code",
   "execution_count": null,
   "metadata": {},
   "outputs": [],
   "source": []
  }
 ],
 "metadata": {
  "kernelspec": {
   "display_name": "Matlab",
   "language": "matlab",
   "name": "matlab"
  },
  "language_info": {
   "codemirror_mode": "octave",
   "file_extension": ".m",
   "help_links": [
    {
     "text": "MetaKernel Magics",
     "url": "https://github.com/calysto/metakernel/blob/master/metakernel/magics/README.md"
    }
   ],
   "mimetype": "text/x-octave",
   "name": "matlab",
   "version": "0.15.1"
  }
 },
 "nbformat": 4,
 "nbformat_minor": 2
}
