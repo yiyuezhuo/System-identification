{
 "cells": [
  {
   "cell_type": "code",
   "execution_count": 1,
   "metadata": {},
   "outputs": [
    {
     "name": "stdout",
     "output_type": "stream",
     "text": [
      "\n"
     ]
    }
   ],
   "source": [
    "i = 2;\n",
    "load(\"2018级研究生小作业-阶未知线性差分方程输入输出数据\\data00\"+ i +\"_OrderUnknown\");\n"
   ]
  },
  {
   "cell_type": "code",
   "execution_count": 2,
   "metadata": {},
   "outputs": [
    {
     "name": "stderr",
     "output_type": "stream",
     "text": [
      "\u001b[1;31mUndefined function or variable 'del'.\n",
      "\n",
      "\u001b[0m"
     ]
    }
   ],
   "source": [
    "%del %延时"
   ]
  },
  {
   "cell_type": "code",
   "execution_count": 3,
   "metadata": {},
   "outputs": [
    {
     "name": "stdout",
     "output_type": "stream",
     "text": [
      "\n"
     ]
    }
   ],
   "source": [
    "%na %A多项式阶次"
   ]
  },
  {
   "cell_type": "code",
   "execution_count": 4,
   "metadata": {},
   "outputs": [
    {
     "name": "stdout",
     "output_type": "stream",
     "text": [
      "\n"
     ]
    }
   ],
   "source": [
    "%nb %B多项式阶次"
   ]
  },
  {
   "cell_type": "code",
   "execution_count": 5,
   "metadata": {},
   "outputs": [
    {
     "name": "stdout",
     "output_type": "stream",
     "text": [
      "\n"
     ]
    }
   ],
   "source": [
    "%nc %c多项式阶次"
   ]
  },
  {
   "cell_type": "code",
   "execution_count": 6,
   "metadata": {},
   "outputs": [
    {
     "name": "stdout",
     "output_type": "stream",
     "text": [
      "\n"
     ]
    }
   ],
   "source": [
    "%n_a = na;\n",
    "%n_b = nb+del;\n",
    "%n_c = nc;\n",
    "rho = 0.99;"
   ]
  },
  {
   "cell_type": "code",
   "execution_count": 7,
   "metadata": {},
   "outputs": [
    {
     "name": "stdout",
     "output_type": "stream",
     "text": [
      "\n"
     ]
    }
   ],
   "source": [
    "for n_a = 1:5\n",
    "    for n_b = 1:5\n",
    "        for n_c = 1:5\n",
    "            %y = data(:,1,di);\n",
    "            %u = data(:,2,di);\n",
    "            [theta, P, xi] = rels(y,u,n_a,n_b,n_c,rho);\n",
    "            aic = get_aic(xi, n_a+n_b+n_c+1);\n",
    "            aic_arr(n_a,n_b,n_c) = aic;\n",
    "        end\n",
    "    end\n",
    "end\n"
   ]
  },
  {
   "cell_type": "code",
   "execution_count": 8,
   "metadata": {},
   "outputs": [
    {
     "name": "stdout",
     "output_type": "stream",
     "text": [
      "\n",
      "aic_arr(:,:,1) =\n",
      "\n",
      "   1.0e+03 *\n",
      "\n",
      "    1.2384    1.1642    1.0897    1.0625    1.0743\n",
      "    1.1933    1.0288    1.0055    1.0041    0.9988\n",
      "    1.0405    0.5323   -0.4394   -0.0226    0.0990\n",
      "    1.0436    0.2254   -0.0226   -0.0230    0.0995\n",
      "    1.0322    0.1581    0.0991    0.0996    0.1003\n",
      "\n",
      "\n",
      "aic_arr(:,:,2) =\n",
      "\n",
      "   1.0e+03 *\n",
      "\n",
      "    1.2193    1.1145    1.0906    1.0502    1.0495\n",
      "    1.1813    1.0170    0.9846    0.9809    0.9833\n",
      "    1.0377    0.5258   -0.4415   -0.0212    0.1007\n",
      "    1.0401    0.2257   -0.0212   -0.0217    0.1010\n",
      "    1.0270    0.1591    0.1007    0.1010    0.1021\n",
      "\n",
      "\n",
      "aic_arr(:,:,3) =\n",
      "\n",
      "   1.0e+03 *\n",
      "\n",
      "    1.1901    1.0954    1.0926    1.0508    0.9913\n",
      "    1.1493    0.9498    0.9320    0.9358    0.9258\n",
      "    1.0343    0.5217   -0.4448   -0.0194    0.1025\n",
      "    1.0377    0.2249   -0.0194   -0.0200    0.1026\n",
      "    1.0137    0.1603    0.1026    0.1026    0.1039\n",
      "\n",
      "\n",
      "aic_arr(:,:,4) =\n",
      "\n",
      "   1.0e+03 *\n",
      "\n",
      "    1.1455    1.0258    1.0200    0.9627    0.9622\n",
      "    1.1292    0.9049    0.8887    0.8876    0.8701\n",
      "    1.0373    0.5465   -0.0189   -0.0177    0.1043\n",
      "    1.0335    0.2250   -0.0178   -0.0183    0.1043\n",
      "    1.0097    0.1618    0.1044    0.1044    0.1057\n",
      "\n",
      "\n",
      "aic_arr(:,:,5) =\n",
      "\n",
      "   1.0e+03 *\n",
      "\n",
      "    1.1219    1.0234    0.9694    0.9418    0.9544\n",
      "    1.1061    0.8827    0.8530    0.8550    0.8419\n",
      "    1.0348    0.5544    0.1034    0.1049    0.1061\n",
      "    1.0322    0.2757    0.1048    0.1049    0.1061\n",
      "    1.0072    0.1632    0.1061    0.1062    0.1075\n",
      "\n",
      "\n"
     ]
    }
   ],
   "source": [
    "aic_arr"
   ]
  },
  {
   "cell_type": "code",
   "execution_count": 9,
   "metadata": {},
   "outputs": [
    {
     "name": "stdout",
     "output_type": "stream",
     "text": [
      "\n",
      "min_aic =\n",
      "\n",
      " -444.8063\n",
      "\n",
      "\n",
      "min_a =\n",
      "\n",
      "     3\n",
      "\n",
      "\n",
      "min_b =\n",
      "\n",
      "     3\n",
      "\n",
      "\n",
      "min_c =\n",
      "\n",
      "     3\n",
      "\n",
      "\n"
     ]
    }
   ],
   "source": [
    "[min_aic,min_a,min_b,min_c] = min3d(aic_arr)"
   ]
  },
  {
   "cell_type": "code",
   "execution_count": 29,
   "metadata": {},
   "outputs": [
    {
     "name": "stdout",
     "output_type": "stream",
     "text": [
      "\n",
      "theta =\n",
      "\n",
      "    0.8962\n",
      "    0.7480\n",
      "    0.8001\n",
      "   -0.0071\n",
      "   -0.0087\n",
      "    2.0018\n",
      "    0.9857\n",
      "    0.3073\n",
      "   -0.1475\n",
      "    0.0390\n",
      "\n",
      "\n"
     ]
    }
   ],
   "source": [
    "theta = rels(y,u,3,3,3,rho)"
   ]
  },
  {
   "cell_type": "code",
   "execution_count": 30,
   "metadata": {},
   "outputs": [
    {
     "name": "stdout",
     "output_type": "stream",
     "text": [
      "\n"
     ]
    }
   ],
   "source": [
    "n_a = 3;\n",
    "n_b = 3;\n",
    "n_c = 3;"
   ]
  },
  {
   "cell_type": "markdown",
   "metadata": {},
   "source": [
    "接下来我们要画那个迭代参数变化图。话说用最小二乘法的话哪来那个图。。"
   ]
  },
  {
   "cell_type": "code",
   "execution_count": 32,
   "metadata": {},
   "outputs": [
    {
     "name": "stdout",
     "output_type": "stream",
     "text": [
      "\n"
     ]
    }
   ],
   "source": [
    "clear thetas"
   ]
  },
  {
   "cell_type": "code",
   "execution_count": 33,
   "metadata": {},
   "outputs": [
    {
     "name": "stdout",
     "output_type": "stream",
     "text": [
      "\n"
     ]
    }
   ],
   "source": [
    "num_p = n_a + n_b + 1 + n_c;\n",
    "\n",
    "theta = 1e-3 * ones(num_p, 1);\n",
    "P = 1e6 * eye(num_p);\n",
    "xi = y;\n",
    "\n",
    "\n",
    "for k = max([n_a n_b n_c])+1:size(u,1)\n",
    "    x = [-y(k-1:-1:k-n_a) ; u(k:-1:k-n_b) ; xi(k-1:-1:k-n_c)];\n",
    "    K = P * x /(rho + x' * P * x);\n",
    "    theta = theta + K * (y(k) - x' * theta);\n",
    "    thetas(:,k) = theta;\n",
    "    P = 1/rho * (eye(num_p) - K * x') * P;\n",
    "    xi(k) = y(k) - x' * theta;\n",
    "end\n"
   ]
  },
  {
   "cell_type": "code",
   "execution_count": 34,
   "metadata": {},
   "outputs": [
    {
     "name": "stdout",
     "output_type": "stream",
     "text": [
      "\n",
      "ans =\n",
      "\n",
      "    10   501\n",
      "\n",
      "\n",
      "theta =\n",
      "\n",
      "    0.8962\n",
      "    0.7480\n",
      "    0.8001\n",
      "   -0.0071\n",
      "   -0.0087\n",
      "    2.0018\n",
      "    0.9857\n",
      "    0.3073\n",
      "   -0.1475\n",
      "    0.0390\n",
      "\n",
      "\n"
     ]
    }
   ],
   "source": [
    "size(thetas)\n",
    "theta"
   ]
  },
  {
   "cell_type": "code",
   "execution_count": 35,
   "metadata": {},
   "outputs": [
    {
     "name": "stdout",
     "output_type": "stream",
     "text": [
      "\n"
     ]
    },
    {
     "data": {
      "image/png": "[encoded data removed]",
      "text/plain": [
       "<IPython.core.display.Image object>"
      ]
     },
     "metadata": {},
     "output_type": "display_data"
    }
   ],
   "source": [
    "figure\n",
    "plot(thetas(1,:));\n",
    "hold on\n",
    "plot(thetas(2,:));\n",
    "plot(thetas(3,:));\n",
    "plot(thetas(6,:));\n",
    "plot(thetas(7,:));\n",
    "plot(thetas(8,:));\n",
    "plot(thetas(9,:));\n",
    "plot(thetas(10,:));\n",
    "\n",
    "\n",
    "\n",
    "hold off\n",
    "legend('a1','a2','a3','b0','b1','c1','c2','c3')\n"
   ]
  },
  {
   "cell_type": "code",
   "execution_count": 36,
   "metadata": {},
   "outputs": [
    {
     "name": "stdout",
     "output_type": "stream",
     "text": [
      "\n"
     ]
    }
   ],
   "source": [
    "n_a = 3;\n",
    "n_b = 3;\n",
    "n_c = 1;"
   ]
  },
  {
   "cell_type": "code",
   "execution_count": 37,
   "metadata": {},
   "outputs": [
    {
     "name": "stdout",
     "output_type": "stream",
     "text": [
      "\n"
     ]
    }
   ],
   "source": [
    "clear thetas"
   ]
  },
  {
   "cell_type": "code",
   "execution_count": 38,
   "metadata": {},
   "outputs": [
    {
     "name": "stdout",
     "output_type": "stream",
     "text": [
      "\n"
     ]
    }
   ],
   "source": [
    "num_p = n_a + n_b + 1 + n_c;\n",
    "\n",
    "theta = 1e-3 * ones(num_p, 1);\n",
    "P = 1e6 * eye(num_p);\n",
    "xi = y;\n",
    "\n",
    "\n",
    "for k = max([n_a n_b n_c])+1:size(u,1)\n",
    "    x = [-y(k-1:-1:k-n_a) ; u(k:-1:k-n_b) ; xi(k-1:-1:k-n_c)];\n",
    "    K = P * x /(rho + x' * P * x);\n",
    "    theta = theta + K * (y(k) - x' * theta);\n",
    "    thetas(:,k) = theta;\n",
    "    P = 1/rho * (eye(num_p) - K * x') * P;\n",
    "    xi(k) = y(k) - x' * theta;\n",
    "end\n"
   ]
  },
  {
   "cell_type": "code",
   "execution_count": 39,
   "metadata": {},
   "outputs": [
    {
     "name": "stdout",
     "output_type": "stream",
     "text": [
      "\n",
      "ans =\n",
      "\n",
      "     8   501\n",
      "\n",
      "\n",
      "theta =\n",
      "\n",
      "    0.8961\n",
      "    0.7480\n",
      "    0.8000\n",
      "   -0.0076\n",
      "   -0.0075\n",
      "    2.0016\n",
      "    0.9865\n",
      "    0.3053\n",
      "\n",
      "\n"
     ]
    }
   ],
   "source": [
    "size(thetas)\n",
    "theta"
   ]
  },
  {
   "cell_type": "code",
   "execution_count": 40,
   "metadata": {},
   "outputs": [
    {
     "name": "stdout",
     "output_type": "stream",
     "text": [
      "\n"
     ]
    },
    {
     "data": {
      "image/png": "[encoded data removed]",
      "text/plain": [
       "<IPython.core.display.Image object>"
      ]
     },
     "metadata": {},
     "output_type": "display_data"
    }
   ],
   "source": [
    "figure\n",
    "plot(thetas(1,:));\n",
    "hold on\n",
    "plot(thetas(2,:));\n",
    "plot(thetas(3,:));\n",
    "plot(thetas(6,:));\n",
    "plot(thetas(7,:));\n",
    "plot(thetas(8,:));\n",
    "\n",
    "\n",
    "\n",
    "hold off\n",
    "legend('a1','a2','a3','b0','b1','c1')\n"
   ]
  },
  {
   "cell_type": "code",
   "execution_count": 41,
   "metadata": {},
   "outputs": [
    {
     "name": "stdout",
     "output_type": "stream",
     "text": [
      "\n"
     ]
    }
   ],
   "source": [
    "n_a = 3;\n",
    "n_b = 3;\n",
    "n_c = 2;"
   ]
  },
  {
   "cell_type": "code",
   "execution_count": 42,
   "metadata": {},
   "outputs": [
    {
     "name": "stdout",
     "output_type": "stream",
     "text": [
      "\n"
     ]
    }
   ],
   "source": [
    "clear thetas"
   ]
  },
  {
   "cell_type": "code",
   "execution_count": 43,
   "metadata": {},
   "outputs": [
    {
     "name": "stdout",
     "output_type": "stream",
     "text": [
      "\n"
     ]
    }
   ],
   "source": [
    "num_p = n_a + n_b + 1 + n_c;\n",
    "\n",
    "theta = 1e-3 * ones(num_p, 1);\n",
    "P = 1e6 * eye(num_p);\n",
    "xi = y;\n",
    "\n",
    "\n",
    "for k = max([n_a n_b n_c])+1:size(u,1)\n",
    "    x = [-y(k-1:-1:k-n_a) ; u(k:-1:k-n_b) ; xi(k-1:-1:k-n_c)];\n",
    "    K = P * x /(rho + x' * P * x);\n",
    "    theta = theta + K * (y(k) - x' * theta);\n",
    "    thetas(:,k) = theta;\n",
    "    P = 1/rho * (eye(num_p) - K * x') * P;\n",
    "    xi(k) = y(k) - x' * theta;\n",
    "end\n"
   ]
  },
  {
   "cell_type": "code",
   "execution_count": 44,
   "metadata": {},
   "outputs": [
    {
     "name": "stdout",
     "output_type": "stream",
     "text": [
      "\n",
      "ans =\n",
      "\n",
      "     9   501\n",
      "\n",
      "\n",
      "theta =\n",
      "\n",
      "    0.8961\n",
      "    0.7480\n",
      "    0.8001\n",
      "   -0.0065\n",
      "   -0.0084\n",
      "    2.0017\n",
      "    0.9855\n",
      "    0.3055\n",
      "   -0.1467\n",
      "\n",
      "\n"
     ]
    }
   ],
   "source": [
    "size(thetas)\n",
    "theta"
   ]
  },
  {
   "cell_type": "code",
   "execution_count": 45,
   "metadata": {},
   "outputs": [
    {
     "name": "stdout",
     "output_type": "stream",
     "text": [
      "\n"
     ]
    },
    {
     "data": {
      "image/png": "[encoded data removed]",
      "text/plain": [
       "<IPython.core.display.Image object>"
      ]
     },
     "metadata": {},
     "output_type": "display_data"
    }
   ],
   "source": [
    "figure\n",
    "plot(thetas(1,:));\n",
    "hold on\n",
    "plot(thetas(2,:));\n",
    "plot(thetas(3,:));\n",
    "plot(thetas(6,:));\n",
    "plot(thetas(7,:));\n",
    "plot(thetas(8,:));\n",
    "plot(thetas(9,:));\n",
    "\n",
    "\n",
    "\n",
    "hold off\n",
    "legend('a1','a2','a3','b0','b1','c1','c2')\n"
   ]
  },
  {
   "cell_type": "code",
   "execution_count": 46,
   "metadata": {},
   "outputs": [
    {
     "name": "stdout",
     "output_type": "stream",
     "text": [
      "\n"
     ]
    }
   ],
   "source": [
    "n_a = 3;\n",
    "n_b = 3;\n",
    "n_c = 4;"
   ]
  },
  {
   "cell_type": "code",
   "execution_count": 47,
   "metadata": {},
   "outputs": [
    {
     "name": "stdout",
     "output_type": "stream",
     "text": [
      "\n"
     ]
    }
   ],
   "source": [
    "clear thetas"
   ]
  },
  {
   "cell_type": "code",
   "execution_count": 48,
   "metadata": {},
   "outputs": [
    {
     "name": "stdout",
     "output_type": "stream",
     "text": [
      "\n"
     ]
    }
   ],
   "source": [
    "num_p = n_a + n_b + 1 + n_c;\n",
    "\n",
    "theta = 1e-3 * ones(num_p, 1);\n",
    "P = 1e6 * eye(num_p);\n",
    "xi = y;\n",
    "\n",
    "\n",
    "for k = max([n_a n_b n_c])+1:size(u,1)\n",
    "    x = [-y(k-1:-1:k-n_a) ; u(k:-1:k-n_b) ; xi(k-1:-1:k-n_c)];\n",
    "    K = P * x /(rho + x' * P * x);\n",
    "    theta = theta + K * (y(k) - x' * theta);\n",
    "    thetas(:,k) = theta;\n",
    "    P = 1/rho * (eye(num_p) - K * x') * P;\n",
    "    xi(k) = y(k) - x' * theta;\n",
    "end\n"
   ]
  },
  {
   "cell_type": "code",
   "execution_count": 49,
   "metadata": {},
   "outputs": [
    {
     "name": "stdout",
     "output_type": "stream",
     "text": [
      "\n",
      "ans =\n",
      "\n",
      "    11   501\n",
      "\n",
      "\n",
      "theta =\n",
      "\n",
      "    0.8964\n",
      "    0.7480\n",
      "    0.8002\n",
      "   -0.0077\n",
      "   -0.0083\n",
      "    2.0024\n",
      "    0.9860\n",
      "    0.2805\n",
      "   -0.1583\n",
      "    0.0542\n",
      "   -0.0480\n",
      "\n",
      "\n"
     ]
    }
   ],
   "source": [
    "size(thetas)\n",
    "theta"
   ]
  },
  {
   "cell_type": "code",
   "execution_count": 50,
   "metadata": {},
   "outputs": [
    {
     "name": "stdout",
     "output_type": "stream",
     "text": [
      "\n"
     ]
    },
    {
     "data": {
      "image/png": "[encoded data removed]",
      "text/plain": [
       "<IPython.core.display.Image object>"
      ]
     },
     "metadata": {},
     "output_type": "display_data"
    }
   ],
   "source": [
    "figure\n",
    "plot(thetas(1,:));\n",
    "hold on\n",
    "plot(thetas(2,:));\n",
    "plot(thetas(3,:));\n",
    "plot(thetas(6,:));\n",
    "plot(thetas(7,:));\n",
    "plot(thetas(8,:));\n",
    "plot(thetas(9,:));\n",
    "\n",
    "\n",
    "\n",
    "hold off\n",
    "legend('a1','a2','a3','b0','b1','c1','c2')\n"
   ]
  },
  {
   "cell_type": "code",
   "execution_count": null,
   "metadata": {},
   "outputs": [],
   "source": []
  }
 ],
 "metadata": {
  "kernelspec": {
   "display_name": "Matlab",
   "language": "matlab",
   "name": "matlab"
  },
  "language_info": {
   "codemirror_mode": "octave",
   "file_extension": ".m",
   "help_links": [
    {
     "text": "MetaKernel Magics",
     "url": "https://github.com/calysto/metakernel/blob/master/metakernel/magics/README.md"
    }
   ],
   "mimetype": "text/x-octave",
   "name": "matlab",
   "version": "0.15.1"
  }
 },
 "nbformat": 4,
 "nbformat_minor": 2
}
