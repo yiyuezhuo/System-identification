{
 "cells": [
  {
   "cell_type": "code",
   "execution_count": 1,
   "metadata": {},
   "outputs": [
    {
     "name": "stdout",
     "output_type": "stream",
     "text": [
      "\n"
     ]
    }
   ],
   "source": [
    "load data001_2014.mat"
   ]
  },
  {
   "cell_type": "code",
   "execution_count": 2,
   "metadata": {},
   "outputs": [
    {
     "name": "stdout",
     "output_type": "stream",
     "text": [
      "\n"
     ]
    },
    {
     "data": {
      "image/png": "[encoded data removed]",
      "text/plain": [
       "<IPython.core.display.Image object>"
      ]
     },
     "metadata": {},
     "output_type": "display_data"
    }
   ],
   "source": [
    "hold on\n",
    "\n",
    "plot(u)\n",
    "plot(y)\n",
    "hold off\n",
    "%plot(y)\n",
    "legend([\"u\",\"y\"])"
   ]
  },
  {
   "cell_type": "markdown",
   "metadata": {},
   "source": [
    "对于 Controled Auto regression moving average (CARMA)模型，其即在ARMA模型中加入了控制项$u_i$，如:\n",
    "\n",
    "$$\n",
    "A(q^{-1}) y(k) = B(q^{-1}) u(k) + C(q^{-1}) \\xi(k)\n",
    "$$\n",
    "\n",
    "使用OLS或RLS显然是不可行的，因为噪声$\\xi(k)$并不是可观测的，即使无视它直接估计前面两组系数，此设定错误导致有偏也是自然的事情。\n",
    "RELS（recursive extended least square,增广矩阵法）则可以解决这一问题。它在递推基础上同时估计$\\xi(k)$的值加入下一轮迭代：\n",
    "\n",
    "回忆RLS的形式:\n",
    "\n",
    "$$\n",
    "\\begin{align*}\n",
    "\\hat{\\theta}(N+1) &=  \\hat{\\theta}(N) + K(N+1)(y(N+1)-x^T(N+1) \\hat{\\theta}(N)) \\\\\n",
    "P(N+1) &= \\frac{1}{\\rho} (I - K(N+1) x^T(N+1)) P(N) \\\\\n",
    "K(N+1) &=  \\frac{P(N)x(N+1)}{\\rho+x^T(N+1)P(N)x(N+1)}\n",
    "\\end{align*}\n",
    "$$\n",
    "\n",
    "我们把所有$x(k)$改成增补了噪声估计值的“数据”$\\hat{x}(k) = (-y(k-1),\\dots,-y_{k-n_a},u(k),\\dots,u(k-n_b),\\dots,\\xi(k),\\dots,\\xi(k-n_c))$\n",
    "\n",
    "$$\n",
    "\\begin{align*}\n",
    "\\hat{\\theta}(N+1) &=  \\hat{\\theta}(N) + K(N+1)(y(N+1)-\\hat{x}^T(N+1) \\hat{\\theta}(N)) \\\\\n",
    "P(N+1) &= \\frac{1}{\\rho} (I - K(N+1) \\hat{x}^T(N+1)) P(N) \\\\\n",
    "K(N+1) &=  \\frac{P(N)\\hat{x}(N+1)}{\\rho + \\hat{x}^T(N+1)P(N)\\hat{x}(N+1)} \\\\\n",
    "\\hat{\\xi}(N+1) &= y(N+1) - x^T(N+1) \\hat{\\theta}(N)\n",
    "\\end{align*}\n",
    "$$\n",
    "\n",
    "三个状态初始值（$K$只是中间变量）$\\hat{\\theta},P,\\xi$取为:\n",
    "\n",
    "$$\n",
    "\\begin{align*}\n",
    "\\hat{\\theta}(k) &= 10^{-3} (1,\\dots,1)^T \\\\\n",
    "P(k) &= 10^6 \\mathbf{I} \\\\\n",
    "\\hat{\\xi}(k) &= y(k)\n",
    "\\end{align*}\n",
    "$$"
   ]
  },
  {
   "cell_type": "code",
   "execution_count": 3,
   "metadata": {},
   "outputs": [
    {
     "name": "stdout",
     "output_type": "stream",
     "text": [
      "\n"
     ]
    }
   ],
   "source": [
    "n_a = 2;\n",
    "n_b = 2;\n",
    "n_c = 1;\n",
    "\n",
    "num_p = n_a + n_b + 1 + n_c;\n",
    "\n",
    "theta = 1e-3 * ones(num_p, 1);\n",
    "P = 1e6 * eye(num_p);\n",
    "xi = y;"
   ]
  },
  {
   "cell_type": "code",
   "execution_count": 4,
   "metadata": {},
   "outputs": [
    {
     "name": "stdout",
     "output_type": "stream",
     "text": [
      "\n"
     ]
    }
   ],
   "source": [
    "rho = 0.99;"
   ]
  },
  {
   "cell_type": "code",
   "execution_count": 5,
   "metadata": {},
   "outputs": [
    {
     "name": "stdout",
     "output_type": "stream",
     "text": [
      "\n"
     ]
    }
   ],
   "source": [
    "for k = max([n_a n_b n_c])+1:size(u,1)\n",
    "    x = [-y(k-1:-1:k-n_a) ; u(k:-1:k-n_b) ; xi(k-1:-1:k-n_c)];\n",
    "    K = P * x /(rho + x' * P * x);\n",
    "    theta = theta + K * (y(k) - x' * theta);\n",
    "    P = 1/rho * (eye(num_p) - K * x') * P;\n",
    "    xi(k) = y(k) - x' * theta;\n",
    "end"
   ]
  },
  {
   "cell_type": "code",
   "execution_count": 6,
   "metadata": {},
   "outputs": [
    {
     "name": "stdout",
     "output_type": "stream",
     "text": [
      "  Recursive extended least square \n",
      "  CARMA model: A(q^{-1}) y(k) = B(q^{-1}) u(k) + C(q^{-1}) \\xi(k)\n",
      "  \"extended\" data: $\\hat{x}(k) = (-y(k-1),\\dots,-y_{k-n_a},u(k),\\dots,u(k-n_b),\\dots,\\xi(k-1),\\dots,\\xi(k-n_c))$\n",
      "\n",
      "\n"
     ]
    }
   ],
   "source": [
    "help rels"
   ]
  },
  {
   "cell_type": "code",
   "execution_count": 7,
   "metadata": {},
   "outputs": [
    {
     "name": "stdout",
     "output_type": "stream",
     "text": [
      "\n"
     ]
    }
   ],
   "source": [
    "clear rels"
   ]
  },
  {
   "cell_type": "code",
   "execution_count": 8,
   "metadata": {},
   "outputs": [
    {
     "name": "stdout",
     "output_type": "stream",
     "text": [
      "\n"
     ]
    }
   ],
   "source": [
    "n_a = 10;\n",
    "n_b = 10;\n",
    "n_c = 10;"
   ]
  },
  {
   "cell_type": "code",
   "execution_count": 9,
   "metadata": {},
   "outputs": [
    {
     "name": "stdout",
     "output_type": "stream",
     "text": [
      "\n"
     ]
    }
   ],
   "source": [
    "[theta, P, xi] = rels(y,u,10,10,10,rho);"
   ]
  },
  {
   "cell_type": "code",
   "execution_count": 10,
   "metadata": {
    "scrolled": false
   },
   "outputs": [
    {
     "name": "stdout",
     "output_type": "stream",
     "text": [
      "\n",
      "ans =\n",
      "\n",
      "    0.2561\n",
      "    0.7983\n",
      "   -0.0277\n",
      "    0.0131\n",
      "   -0.0779\n",
      "   -0.0706\n",
      "   -0.0663\n",
      "   -0.0636\n",
      "   -0.0357\n",
      "   -0.0102\n",
      "\n",
      "\n",
      "ans =\n",
      "\n",
      "   -0.0100\n",
      "    4.9955\n",
      "    4.2848\n",
      "    2.9543\n",
      "   -1.0301\n",
      "    0.0634\n",
      "   -0.5127\n",
      "   -0.1822\n",
      "   -0.5382\n",
      "   -0.3614\n",
      "   -0.1153\n",
      "\n",
      "\n",
      "ans =\n",
      "\n",
      "   -0.0631\n",
      "   -0.0491\n",
      "   -0.0548\n",
      "   -0.0764\n",
      "   -0.0803\n",
      "    0.0045\n",
      "   -0.0304\n",
      "    0.0159\n",
      "   -0.0230\n",
      "   -0.0502\n",
      "\n",
      "\n"
     ]
    }
   ],
   "source": [
    "theta(1:n_a)\n",
    "theta(n_a+1:n_a+n_b+1)\n",
    "theta(n_a+n_b+2:n_a+n_b+n_c+1)"
   ]
  },
  {
   "cell_type": "code",
   "execution_count": 36,
   "metadata": {},
   "outputs": [
    {
     "name": "stdout",
     "output_type": "stream",
     "text": [
      "\n"
     ]
    }
   ],
   "source": [
    "pa = [0.9, 0.8 ]';\n",
    "pb = [0.7 0.6 0.5]';\n",
    "pc = [1. 0.5]';\n",
    "\n",
    "n_a = size(pa,1);\n",
    "n_b = size(pb,1)-1;\n",
    "n_c = size(pc,1)-1;\n",
    "\n",
    "theta = [pa; pb; pc];\n",
    "u = 3*randn(1000,1);\n",
    "xi = 0.1*randn(1000,1);\n",
    "y = ones(max([n_a n_b n_c]),1);\n",
    "\n",
    "for k = max([n_a,n_b,n_c])+1:1000\n",
    "    x = [-y(k-1:-1:k-n_a) ; u(k:-1:k-n_b) ; xi(k:-1:k-n_c)];\n",
    "    y(k) = x' *theta;\n",
    "end"
   ]
  },
  {
   "cell_type": "code",
   "execution_count": 46,
   "metadata": {},
   "outputs": [
    {
     "name": "stdout",
     "output_type": "stream",
     "text": [
      "\n",
      "ans =\n",
      "\n",
      "    0.8720\n",
      "    0.7966\n",
      "\n",
      "\n",
      "ans =\n",
      "\n",
      "    0.6998\n",
      "    0.5817\n",
      "    0.4971\n",
      "\n",
      "\n",
      "ans =\n",
      "\n",
      "    0.5319\n",
      "\n",
      "\n"
     ]
    }
   ],
   "source": [
    "n_a = 2;\n",
    "n_b = 2;\n",
    "n_c = 1;\n",
    "\n",
    "[theta, P, xi] = rels(y,u,n_a,n_b,n_c,rho);\n",
    "\n",
    "theta(1:n_a)\n",
    "theta(n_a+1:n_a+n_b+1)\n",
    "theta(n_a+n_b+2:n_a+n_b+n_c+1)"
   ]
  },
  {
   "cell_type": "code",
   "execution_count": 45,
   "metadata": {},
   "outputs": [
    {
     "name": "stdout",
     "output_type": "stream",
     "text": [
      "\n",
      "ans =\n",
      "\n",
      "    0.6596\n",
      "    0.6063\n",
      "   -0.6520\n",
      "   -0.4417\n",
      "   -0.4209\n",
      "\n",
      "\n",
      "ans =\n",
      "\n",
      "    0.6997\n",
      "    0.4320\n",
      "    0.3697\n",
      "   -0.4420\n",
      "   -0.2958\n",
      "   -0.2680\n",
      "\n",
      "\n",
      "ans =\n",
      "\n",
      "    0.3389\n",
      "   -0.0387\n",
      "   -0.4765\n",
      "   -0.3302\n",
      "   -0.0973\n",
      "\n",
      "\n"
     ]
    }
   ],
   "source": [
    "n_a = 5;\n",
    "n_b = 5;\n",
    "n_c = 5;\n",
    "\n",
    "[theta, P, xi] = rels(y,u,n_a,n_b,n_c,rho);\n",
    "\n",
    "theta(1:n_a)\n",
    "theta(n_a+1:n_a+n_b+1)\n",
    "theta(n_a+n_b+2:n_a+n_b+n_c+1)"
   ]
  },
  {
   "cell_type": "code",
   "execution_count": 47,
   "metadata": {},
   "outputs": [
    {
     "name": "stdout",
     "output_type": "stream",
     "text": [
      "\n",
      "ans =\n",
      "\n",
      "    0.2051\n",
      "    0.1965\n",
      "   -0.5266\n",
      "\n",
      "\n",
      "ans =\n",
      "\n",
      "    0.6996\n",
      "    0.1136\n",
      "    0.0958\n",
      "   -0.3264\n",
      "\n",
      "\n",
      "ans =\n",
      "\n",
      "   -0.1734\n",
      "   -0.3138\n",
      "    0.0500\n",
      "\n",
      "\n"
     ]
    }
   ],
   "source": [
    "n_a = 3;\n",
    "n_b = 3;\n",
    "n_c = 3;\n",
    "\n",
    "[theta, P, xi] = rels(y,u,n_a,n_b,n_c,rho);\n",
    "\n",
    "theta(1:n_a)\n",
    "theta(n_a+1:n_a+n_b+1)\n",
    "theta(n_a+n_b+2:n_a+n_b+n_c+1)"
   ]
  },
  {
   "cell_type": "markdown",
   "metadata": {},
   "source": [
    "可以看成参数估计的准确性与所选阶数的设定十分相关，设的准估计的也准，否则相差万里。本来以为“多余”参数与非多余参数在绝对值上有显著\n",
    "偏差也没有实现。看起来只能借助定阶方法来解决，不过诸如AIC的定阶方法要求设定分布（当然这里$\\xi(k)$是白噪声，而且是唯一的随机变量。\n",
    "其实计算并不困难）"
   ]
  },
  {
   "cell_type": "code",
   "execution_count": 51,
   "metadata": {},
   "outputs": [
    {
     "name": "stdout",
     "output_type": "stream",
     "text": [
      "\n",
      "mu =\n",
      "\n",
      "    0.0036\n",
      "\n",
      "\n",
      "sd =\n",
      "\n",
      "    0.1045\n",
      "\n",
      "\n"
     ]
    }
   ],
   "source": [
    "mu = mean(xi)\n",
    "sd = std(xi)"
   ]
  },
  {
   "cell_type": "code",
   "execution_count": 55,
   "metadata": {},
   "outputs": [
    {
     "name": "stdout",
     "output_type": "stream",
     "text": [
      "\n",
      "logprob =\n",
      "\n",
      "  840.0922\n",
      "\n",
      "\n"
     ]
    }
   ],
   "source": [
    "logprob = -sum(((xi - mu)/sd).^2/2) - log(sqrt(2*pi)*sd)*size(xi,1)"
   ]
  },
  {
   "cell_type": "code",
   "execution_count": 57,
   "metadata": {},
   "outputs": [
    {
     "name": "stdout",
     "output_type": "stream",
     "text": [
      "\n",
      "k =\n",
      "\n",
      "    10\n",
      "\n",
      "\n"
     ]
    }
   ],
   "source": [
    "k = n_a + n_b + 1 + n_c"
   ]
  },
  {
   "cell_type": "code",
   "execution_count": 58,
   "metadata": {},
   "outputs": [
    {
     "name": "stdout",
     "output_type": "stream",
     "text": [
      "\n",
      "aic =\n",
      "\n",
      " -820.0922\n",
      "\n",
      "\n"
     ]
    }
   ],
   "source": [
    "aic = 2*k - logprob"
   ]
  },
  {
   "cell_type": "code",
   "execution_count": null,
   "metadata": {},
   "outputs": [],
   "source": []
  }
 ],
 "metadata": {
  "kernelspec": {
   "display_name": "Matlab",
   "language": "matlab",
   "name": "matlab"
  },
  "language_info": {
   "codemirror_mode": "octave",
   "file_extension": ".m",
   "help_links": [
    {
     "text": "MetaKernel Magics",
     "url": "https://github.com/calysto/metakernel/blob/master/metakernel/magics/README.md"
    }
   ],
   "mimetype": "text/x-octave",
   "name": "matlab",
   "version": "0.15.1"
  }
 },
 "nbformat": 4,
 "nbformat_minor": 2
}
