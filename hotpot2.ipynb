{
 "cells": [
  {
   "cell_type": "markdown",
   "metadata": {},
   "source": [
    "惊了，之前犯了那么大一个错误还实验报告还写的一股子劲。。之前那个上升到每个信号产生15个和样本匹配的好像拟合出的结果不太好看，\n",
    "这里试试对这个序列本身采样看看。"
   ]
  },
  {
   "cell_type": "code",
   "execution_count": 1,
   "metadata": {},
   "outputs": [
    {
     "name": "stdout",
     "output_type": "stream",
     "text": [
      "\n"
     ]
    }
   ],
   "source": [
    "process_pre = csvread('2018-10-28-13-21-8DataDemo.csv',1,1);\n",
    "process_mid = csvread('2018-10-28-14-0-3DataDemo.csv',1,1);\n",
    "process_after = csvread('2018-10-28-15-53-18DataDemo.csv',1,1);\n",
    "\n",
    "process_10 = csvread('2018-10-28-14-44-59DataDemo_Sequence_Identy.csv',1,1);\n",
    "process_20 = csvread('2018-10-28-15-58-24DataDemo_Sequence_Identy.csv',1,1);\n",
    "\n",
    "input1 = 10 * idinput(63,'prbs');\n",
    "input2 = 20 * idinput(63,'prbs');"
   ]
  },
  {
   "cell_type": "code",
   "execution_count": 3,
   "metadata": {},
   "outputs": [
    {
     "name": "stdout",
     "output_type": "stream",
     "text": [
      "\n",
      "ans =\n",
      "\n",
      "   944     1\n",
      "\n",
      "\n",
      "ans =\n",
      "\n",
      "   944     1\n",
      "\n",
      "\n"
     ]
    }
   ],
   "source": [
    "yf = process_10(:,3) - mean(process_10(:,3));\n",
    "uf = repelem(input1, 15);\n",
    "uf = uf(1:size(y,1),:);\n",
    "\n",
    "size(uf)\n",
    "size(yf)"
   ]
  },
  {
   "cell_type": "code",
   "execution_count": 18,
   "metadata": {},
   "outputs": [
    {
     "name": "stdout",
     "output_type": "stream",
     "text": [
      "\n"
     ]
    },
    {
     "data": {
      "image/png": "[encoded data removed]",
      "text/plain": [
       "<IPython.core.display.Image object>"
      ]
     },
     "metadata": {},
     "output_type": "display_data"
    }
   ],
   "source": [
    "u = uf(1:15:944);\n",
    "y = yf(1:15:944);\n",
    "hold on\n",
    "plot(y)\n",
    "stem(u)\n",
    "legend('y','u')\n",
    "hold off"
   ]
  },
  {
   "cell_type": "code",
   "execution_count": 19,
   "metadata": {},
   "outputs": [
    {
     "name": "stdout",
     "output_type": "stream",
     "text": [
      "\n"
     ]
    }
   ],
   "source": [
    "rho = 0.99;"
   ]
  },
  {
   "cell_type": "code",
   "execution_count": 20,
   "metadata": {},
   "outputs": [
    {
     "name": "stdout",
     "output_type": "stream",
     "text": [
      "\n",
      "min_aic =\n",
      "\n",
      "  104.7648\n",
      "\n",
      "\n",
      "min_a =\n",
      "\n",
      "     4\n",
      "\n",
      "\n",
      "min_b =\n",
      "\n",
      "     7\n",
      "\n",
      "\n",
      "min_c =\n",
      "\n",
      "     1\n",
      "\n",
      "\n"
     ]
    }
   ],
   "source": [
    "clear aic_arr\n",
    "\n",
    "for n_a = 1:10\n",
    "    for n_b = 1:10\n",
    "        for n_c = 1:10\n",
    "            %y = data(:,1,di);\n",
    "            %u = data(:,2,di);\n",
    "            [theta, P, xi] = rels(y,u,n_a,n_b,n_c,rho);\n",
    "            %aic = get_aic(xi, n_a+n_b+n_c+1);\n",
    "            aic = get_aic(refine_xi(y, u, n_a, n_b, n_c, d, 0.99, theta),n_a+n_b+n_c+1-d);\n",
    "            aic_arr(n_a,n_b,n_c) = aic;\n",
    "        end\n",
    "    end\n",
    "end\n",
    "\n",
    "[min_aic,min_a,min_b,min_c] = min3d(aic_arr)\n"
   ]
  },
  {
   "cell_type": "code",
   "execution_count": 21,
   "metadata": {
    "scrolled": false
   },
   "outputs": [
    {
     "name": "stdout",
     "output_type": "stream",
     "text": [
      "\n",
      "aic_arr(:,:,1) =\n",
      "\n",
      "  109.5361  109.0719  115.2967  117.9453  115.3385  107.9484  105.8933  107.4524  109.8750  109.6717\n",
      "  113.2786  113.8486  117.0054  119.4384  116.7257  109.4113  106.7152  108.7761  110.4254  110.6304\n",
      "  115.9049  116.5081  116.1688  122.1059  118.0690  111.2021  106.9420  108.6331  110.3777  112.9432\n",
      "  125.8917  120.6075  124.1987  126.4883  117.4273  117.3020  104.7648  107.3451  109.8211  111.3150\n",
      "  113.2003  114.1755  115.1849  117.2286  118.8791  115.8555  105.9961  107.5839  109.4500  112.8204\n",
      "  115.3864  123.1398  118.8313  119.6596  119.0361  116.4384  108.5976  109.0651  111.3020  113.3636\n",
      "  114.5303  115.4932  116.3185  118.8554  120.3429  117.3470  111.1570  111.3281  113.2562  115.0362\n",
      "  116.7086  121.7509  120.4819  126.1117  126.3799  120.6437  114.2683  121.5124  121.4846  123.8026\n",
      "  116.2190  119.8453  118.3586  121.8081  122.8739  120.9987  110.2771  112.9078  116.4988  120.4702\n",
      "  117.3686  121.3627  119.8558  125.5808  125.4052  122.9820  109.6409  111.2788  113.6796  117.7377\n",
      "\n",
      "\n",
      "aic_arr(:,:,2) =\n",
      "\n",
      "  111.2976  111.0920  114.8783  121.0892  116.4247  110.4041  107.9618  109.2141  111.2467  111.5220\n",
      "  114.5316  114.1938  118.7779  120.3621  116.5500  110.8717  107.7042  114.1108  110.3334  116.4142\n",
      "  118.4083  117.9269  134.9979  129.2926  117.6547  112.2086  108.9992  115.0834  113.3812  121.9956\n",
      "  184.2043  120.6845  121.3854  128.3683  120.2255  115.7465  106.9944  114.2164  113.3990  120.1337\n",
      "  119.5632  117.7460  118.0820  120.7989  123.5242  120.5985  107.8429  112.2444  114.0730  120.0538\n",
      "  122.4566  119.7915  118.8241  122.2221  123.0135  120.3871  110.8616  111.4797  112.9891  120.9403\n",
      "  117.1214  119.1669  118.7265  121.3691  124.2067  120.2460  113.6658  114.7506  115.3916  122.0837\n",
      "  118.7766  122.3871  122.9715  129.7588  128.3284  123.1311  122.6126  326.8331  356.4051  652.0870\n",
      "  118.6386  121.9451  121.1930  124.8111  125.5770  124.8388  113.7036  113.4297  943.3481  828.6567\n",
      "  119.8913  137.5972  122.9782  127.8794  127.7404  126.4058  113.2899  117.1953  125.0055  128.2999\n",
      "\n",
      "\n",
      "aic_arr(:,:,3) =\n",
      "\n",
      "   1.0e+03 *\n",
      "\n",
      "    0.1139    0.1141    0.1192    0.1237    0.1217    0.1141    0.1106    0.1119    0.1131    0.1123\n",
      "    0.1168    0.1194    0.1251    0.1241    0.1195    0.1280    0.1104    0.1180    0.1130    0.1131\n",
      "    0.1190    0.1245    0.1224    0.1238    0.1243    0.1200    0.1121    0.1183    0.1141    0.1215\n",
      "    0.1312    0.1583    0.1278    0.1259    0.1211    0.1165    0.1089    0.1161    0.1156    0.1181\n",
      "    0.1246    0.1188    0.1213    0.1230    0.1259    0.1218    0.1101    0.1227    0.1168    0.1231\n",
      "    0.1203    0.1209    0.1226    0.1244    0.1294    0.1213    0.1140    0.1166    0.1153    0.1206\n",
      "    0.1244    0.1219    0.1230    0.1252    0.1277    0.1228    0.1190    0.1166    0.1174    0.1235\n",
      "    0.1228    0.1268    0.1253    0.1337    0.1311    0.1257    0.1217    0.3446    0.1440    0.3767\n",
      "    0.1207    0.1241    0.1259    0.1378    0.1336    0.1267    0.1141    0.1249    0.7935    1.4181\n",
      "    0.6658    0.6190    0.1237    0.1273    0.8203    0.1319    0.1165    0.1182    0.1266    0.1389\n",
      "\n",
      "\n",
      "aic_arr(:,:,4) =\n",
      "\n",
      "   1.0e+03 *\n",
      "\n",
      "    0.1175    0.1168    0.1244    0.1274    0.1214    0.1180    0.1111    0.1121    0.1170    0.1135\n",
      "    0.1273    0.1189    0.1208    0.1325    0.1181    0.1148    0.1088    0.1107    0.1203    0.1265\n",
      "    0.1212    0.1967    0.1222    0.1445    0.1215    0.1173    0.1096    0.1114    0.1264    0.2994\n",
      "    0.1212    0.1289    0.1261    0.1320    0.1219    0.1181    0.1109    0.1155    0.2305    0.2747\n",
      "    0.1237    0.1205    0.1216    0.1268    0.1286    0.1222    0.1125    0.3869    0.1548    0.1242\n",
      "    0.1255    0.1239    0.1184    0.1303    0.2126    0.1208    0.1156    0.1239    0.1204    0.1278\n",
      "    0.1269    0.1240    0.1196    0.1214    0.1248    0.1238    0.1201    0.1189    0.1294    0.1599\n",
      "    0.1243    0.1267    0.3388    0.5431    0.2816    0.1273    0.1231    1.2522    1.0430    1.0273\n",
      "    0.1406    0.1315    0.1264    0.8178    0.1297    0.1285    0.1162    0.3644    1.5698    2.0953\n",
      "    0.1517    0.8770    0.9846    1.6115    0.2883    0.9717    0.1163    0.1167    0.1215    0.6715\n",
      "\n",
      "\n",
      "aic_arr(:,:,5) =\n",
      "\n",
      "   1.0e+03 *\n",
      "\n",
      "    0.1208    0.1164    0.1213    0.1241    0.1294    0.1216    0.1128    0.1142    0.1220    0.1243\n",
      "    0.1183    0.1158    0.1296    0.1178    0.1218    0.1182    0.1107    0.1135    0.5849    0.2663\n",
      "    0.1197    0.1183    0.1227    0.1226    0.1229    0.1195    0.1116    0.1145    0.7039    0.4391\n",
      "    0.1327    0.1238    0.1194    0.9462    0.1281    0.1232    0.1128    1.0802    0.7410    0.4112\n",
      "    0.1260    0.1238    0.1242    0.1342    0.1457    0.1565    0.1136    0.1379    0.1901    0.1933\n",
      "    0.2387    0.1317    0.2635    0.5379    0.1279    0.1381    0.1208    0.1211    0.1215    0.1787\n",
      "    0.2456    0.3048    0.1213    0.1251    0.1330    0.1283    0.1278    0.1203    0.6190    0.2189\n",
      "    0.1270    0.1246    0.8229    1.2771    0.2759    0.1284    0.1349    2.0425    0.6756    1.2988\n",
      "    0.1369    0.1849    0.1392    0.1646    0.1297    0.1296    0.2921    0.8688    0.3958    2.2644\n",
      "    0.7782    1.1879    1.2092    1.7538    1.3143    0.6373    0.1237    0.1253    0.1251    0.7557\n",
      "\n",
      "\n",
      "aic_arr(:,:,6) =\n",
      "\n",
      "   1.0e+03 *\n",
      "\n",
      "    0.1212    0.1237    0.1232    0.1270    0.1271    0.1184    0.1182    0.1191    0.1216    0.1423\n",
      "    0.1196    0.1191    0.1184    0.1483    0.1218    0.1211    0.1148    0.1187    0.2043    0.2061\n",
      "    0.1411    0.1193    0.1197    0.1304    0.1249    0.3129    0.1187    0.1162    0.1218    0.5002\n",
      "    0.1249    0.1226    0.6279    0.5013    0.4603    0.1290    0.1182    0.6177    0.1231    0.1802\n",
      "    0.1256    0.1257    0.3476    0.5144    0.1314    0.3736    0.1192    0.1279    0.1332    0.1402\n",
      "    0.1482    0.1343    0.1288    0.4244    0.2575    0.4493    0.1294    0.1380    0.1328    0.2670\n",
      "    0.3505    0.2704    0.1285    0.1267    0.1406    0.2279    0.1906    0.1219    0.1259    0.3455\n",
      "    0.1429    0.2638    0.1248    0.5291    0.1336    0.1325    0.1271    0.8197    0.1876    1.5820\n",
      "    0.1333    0.1298    0.1368    0.1356    0.1995    0.1489    0.1267    0.7192    0.3588    1.1992\n",
      "    1.0911    1.2557    1.1264    0.9399    0.8639    0.1962    0.1357    0.1522    1.4215    1.5911\n",
      "\n",
      "\n",
      "aic_arr(:,:,7) =\n",
      "\n",
      "   1.0e+03 *\n",
      "\n",
      "    0.1168    0.1185    0.1200    0.1279    0.1264    0.1384    0.1217    0.1214    0.2484    0.1734\n",
      "    0.1161    0.3926    0.1241    0.1227    0.1242    0.1209    0.1169    0.1182    0.1326    0.2705\n",
      "    0.2818    0.1874    0.1230    0.1244    0.1263    0.1945    0.1193    0.1152    0.4968    0.3532\n",
      "    0.1396    0.1223    0.1206    0.1224    0.1280    0.1394    0.1206    0.1190    0.1272    0.7413\n",
      "    0.1402    0.1276    0.1229    0.1243    0.1283    0.1501    0.1238    0.1238    0.1316    0.2760\n",
      "    0.1690    0.2031    0.1238    0.1271    0.1640    0.1641    0.1288    0.4367    0.1313    0.2795\n",
      "    0.3960    0.2995    0.1291    0.1239    0.1337    0.2796    0.1360    0.1253    0.1321    0.3271\n",
      "    1.2150    0.1304    0.1257    0.1381    0.1374    0.1432    0.2244    1.2076    0.1426    1.1960\n",
      "    0.1293    0.1433    0.1326    0.1371    0.1364    0.1474    0.1305    0.1452    0.1481    2.3566\n",
      "    0.1786    0.1733    0.6868    0.6544    0.9419    0.3907    0.1256    0.6804    0.2144    2.1237\n",
      "\n",
      "\n",
      "aic_arr(:,:,8) =\n",
      "\n",
      "   1.0e+03 *\n",
      "\n",
      "    0.1320    0.1216    0.1282    0.1317    0.1307    0.1215    0.1204    0.1216    0.1263    0.1650\n",
      "    0.1203    0.1191    0.1193    0.2098    0.1255    0.1231    0.1215    0.1198    0.1270    0.1353\n",
      "    0.1294    0.1198    0.1267    0.1265    0.1266    0.1336    0.1166    0.1185    0.1380    0.2279\n",
      "    0.1237    0.6372    1.0956    0.1249    0.5603    0.1265    0.1325    0.1398    0.1309    0.1671\n",
      "    0.1257    0.1235    0.6469    1.0578    0.3345    0.1313    0.1258    1.5776    0.1482    0.4523\n",
      "    0.1795    0.1261    0.1242    0.1313    0.1375    0.1337    0.1273    0.1334    0.1458    0.1843\n",
      "    1.2903    0.1322    0.1266    0.1380    0.1510    0.1332    0.1944    0.1375    0.1420    0.5604\n",
      "    0.3205    0.1322    0.1357    0.1421    0.1419    0.1376    1.2578    1.4426    0.3175    2.2416\n",
      "    0.1360    0.1466    0.1658    0.1523    0.1431    0.1531    0.1483    0.1364    0.5270    1.7216\n",
      "    1.2363    0.4824    2.1526    0.9836    0.7606    0.7850    0.7008    0.1875    1.0359    1.5921\n",
      "\n",
      "\n",
      "aic_arr(:,:,9) =\n",
      "\n",
      "   1.0e+03 *\n",
      "\n",
      "    0.1408    0.1591    0.1287    0.1321    0.1378    0.1331    0.1804    0.1843    0.2532    0.1406\n",
      "    0.1216    0.1304    0.1279    0.2318    0.2975    0.1344    0.2207    0.1521    0.4609    0.3360\n",
      "    0.1244    0.6428    0.1444    0.1543    0.1905    0.1355    0.2241    0.7945    0.3047    0.5636\n",
      "    0.1380    0.1550    0.2324    0.2882    0.2163    0.7314    0.6530    0.7403    0.7850    0.5933\n",
      "    0.1816    0.1277    0.5316    0.6461    1.0120    0.1521    0.1931    0.2973    0.1350    0.6398\n",
      "    0.4831    0.2732    0.1769    0.1736    0.1971    0.4917    0.1860    0.1927    0.1399    0.9117\n",
      "    0.9029    1.1307    0.1272    0.1653    0.6673    0.1953    0.2824    0.1800    0.1511    0.4522\n",
      "    0.7123    0.7093    0.1818    0.3971    0.3289    0.1499    0.2202    0.4911    0.3418    1.5182\n",
      "    0.1366    0.1377    0.3456    0.2166    0.4554    0.1432    0.1897    0.2249    2.0146    2.1073\n",
      "    0.9719    0.3239    1.3521    1.0651    0.4269    0.2111    0.2125    2.3449    0.7387    1.3380\n",
      "\n",
      "\n",
      "aic_arr(:,:,10) =\n",
      "\n",
      "   1.0e+03 *\n",
      "\n",
      "    0.1343    0.2388    0.5109    0.2129    0.1291    0.2599    0.1966    0.1913    0.1705    0.2830\n",
      "    1.1152    0.1977    0.3123    0.2746    0.2147    0.1378    0.2946    0.6379    0.9459    0.1804\n",
      "    0.1293    0.2553    0.1334    0.1427    0.5710    0.2758    0.2083    0.1263    0.3425    0.6880\n",
      "    0.1400    0.1846    0.2412    0.3312    0.3295    0.1362    0.1499    0.3393    0.3648    0.9041\n",
      "    0.1976    0.1395    0.2647    0.9686    1.6091    0.2119    0.1520    0.8672    0.6279    0.6891\n",
      "    0.6090    0.1334    0.5771    0.4209    0.7147    0.1843    0.2842    0.5255    1.7952    1.6260\n",
      "    0.4029    0.1933    0.3523    0.1795    0.4992    2.0433    0.3197    0.5169    1.1472    0.4880\n",
      "    0.2848    1.0270    1.5167    0.4887    0.1896    0.3590    0.5349    2.3425    1.5898    2.1812\n",
      "    0.1474    0.1531    1.2346    1.3058    1.3177    0.5702    0.4746    1.8547    1.7804    1.8160\n",
      "    1.3345    2.0771    1.4666    1.2978    1.0408    0.3576    0.8091    2.4460    2.0177    1.0033\n",
      "\n",
      "\n"
     ]
    }
   ],
   "source": [
    "aic_arr"
   ]
  },
  {
   "cell_type": "code",
   "execution_count": 22,
   "metadata": {},
   "outputs": [
    {
     "name": "stdout",
     "output_type": "stream",
     "text": [
      "\n",
      "theta =\n",
      "\n",
      "   -0.3409\n",
      "   -0.0596\n",
      "   -0.0493\n",
      "   -0.2446\n",
      "    0.0255\n",
      "    0.0168\n",
      "    0.0334\n",
      "    0.0256\n",
      "    0.0169\n",
      "    0.0294\n",
      "    0.0433\n",
      "    0.0559\n",
      "   -0.2218\n",
      "\n",
      "\n"
     ]
    }
   ],
   "source": [
    "[theta, P, xi] = rels(y,u,4,7,1,rho);\n",
    "theta"
   ]
  },
  {
   "cell_type": "markdown",
   "metadata": {},
   "source": [
    "看上去不错，不过这不就代表它对应了采用完整周期的5\\*10个点之前有关了么。。"
   ]
  },
  {
   "cell_type": "code",
   "execution_count": 23,
   "metadata": {},
   "outputs": [
    {
     "name": "stdout",
     "output_type": "stream",
     "text": [
      "\n"
     ]
    }
   ],
   "source": [
    "min_aic = inf;\n",
    "\n",
    "\n",
    "for n_a = 1:10\n",
    "    for n_b = 0:10\n",
    "        for n_c = 0:10\n",
    "            for d = 0:n_b\n",
    "                %y = data(:,1,di);\n",
    "                %u = data(:,2,di);\n",
    "                [theta, P, xi] = relsd(y, u, n_a, n_b, n_c, d, rho);\n",
    "                %aic = get_aic(xi, n_a+n_b+n_c+1-d);\n",
    "                aic = get_aic(refine_xi(y, u, n_a, n_b, n_c, d, 0.99, theta),n_a+n_b+n_c+1-d);\n",
    "                if(aic < min_aic)\n",
    "                    min_aic = aic;\n",
    "                    min_a = n_a;\n",
    "                    min_b = n_b;\n",
    "                    min_c = n_c;\n",
    "                    min_d = d;\n",
    "                end\n",
    "                %aic_arr(n_a,n_b,n_c,d+1) = aic;\n",
    "            end\n",
    "        end\n",
    "    end\n",
    "end\n"
   ]
  },
  {
   "cell_type": "code",
   "execution_count": 24,
   "metadata": {},
   "outputs": [
    {
     "name": "stdout",
     "output_type": "stream",
     "text": [
      "\n",
      "ans =\n",
      "\n",
      "     4     7     0     6\n",
      "\n",
      "\n"
     ]
    }
   ],
   "source": [
    "[min_a,min_b,min_c,min_d]"
   ]
  },
  {
   "cell_type": "code",
   "execution_count": 25,
   "metadata": {},
   "outputs": [
    {
     "name": "stdout",
     "output_type": "stream",
     "text": [
      "\n",
      "ans =\n",
      "\n",
      "     6    63\n",
      "\n",
      "\n",
      "theta =\n",
      "\n",
      "   -0.3499\n",
      "   -0.1170\n",
      "   -0.1471\n",
      "   -0.2818\n",
      "    0.0342\n",
      "    0.0524\n",
      "\n",
      "\n",
      "aic =\n",
      "\n",
      "  103.3752\n",
      "\n",
      "Warning: Ignoring extra legend entries.\n",
      "> In legend>set_children_and_strings (line 674)\n",
      "  In legend>make_legend (line 346)\n",
      "  In legend (line 294)\n",
      "  In plot_trace (line 9)\n",
      "\n"
     ]
    },
    {
     "data": {
      "image/png": "[encoded data removed]",
      "text/plain": [
       "<IPython.core.display.Image object>"
      ]
     },
     "metadata": {},
     "output_type": "display_data"
    }
   ],
   "source": [
    "n_a = min_a;\n",
    "n_b = min_b;\n",
    "n_c = min_c;\n",
    "d = min_d;\n",
    "\n",
    "clear thetas\n",
    "\n",
    "[theta, P, xi, thetas] = relsd(y, u, n_a, n_b, n_c, d, 0.99);\n",
    "size(thetas)\n",
    "theta\n",
    "aic = get_aic(xi, n_a+n_b+n_c+1-d)\n",
    "\n",
    "plot_trace(thetas, 1:length(theta), [\"a1\",\"a2\",\"a3\",\"b0\",\"b1\",\"b2\",\"c1\",\"c2\",\"c3\"])\n"
   ]
  },
  {
   "cell_type": "code",
   "execution_count": null,
   "metadata": {},
   "outputs": [],
   "source": []
  }
 ],
 "metadata": {
  "kernelspec": {
   "display_name": "Matlab",
   "language": "matlab",
   "name": "matlab"
  },
  "language_info": {
   "codemirror_mode": "octave",
   "file_extension": ".m",
   "help_links": [
    {
     "text": "MetaKernel Magics",
     "url": "https://github.com/calysto/metakernel/blob/master/metakernel/magics/README.md"
    }
   ],
   "mimetype": "text/x-octave",
   "name": "matlab",
   "version": "0.15.1"
  }
 },
 "nbformat": 4,
 "nbformat_minor": 2
}
