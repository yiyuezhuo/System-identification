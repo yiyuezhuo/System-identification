{
 "cells": [
  {
   "cell_type": "code",
   "execution_count": 9,
   "metadata": {},
   "outputs": [
    {
     "name": "stdout",
     "output_type": "stream",
     "text": [
      "\n",
      "num_data =\n",
      "\n",
      "     5\n",
      "\n",
      "\n"
     ]
    }
   ],
   "source": [
    "num_data = 5;"
   ]
  },
  {
   "cell_type": "code",
   "execution_count": 66,
   "metadata": {},
   "outputs": [
    {
     "name": "stdout",
     "output_type": "stream",
     "text": [
      "\n"
     ]
    }
   ],
   "source": [
    "for i=1:num_data\n",
    "    load(\"data00\" + i + \"_2014.mat\");\n",
    "    data(:,1,i) = y;\n",
    "    data(:,2,i) = u;\n",
    "end"
   ]
  },
  {
   "cell_type": "code",
   "execution_count": 67,
   "metadata": {},
   "outputs": [
    {
     "name": "stdout",
     "output_type": "stream",
     "text": [
      "\n",
      "ans =\n",
      "\n",
      "   501     2     5\n",
      "\n",
      "\n"
     ]
    }
   ],
   "source": [
    "size(data)"
   ]
  },
  {
   "cell_type": "code",
   "execution_count": 3,
   "metadata": {},
   "outputs": [
    {
     "name": "stdout",
     "output_type": "stream",
     "text": [
      "2 3 5\n",
      "\n"
     ]
    }
   ],
   "source": [
    "% Review: how to find 2d coordinate of min/max value in a matrix? \n",
    "A = [1 2 3 4; 4 3 5 1];\n",
    "[V, I] = max(A);\n",
    "[V2, I2] = max(V);\n",
    "disp(\"\"+I(I2)+\" \"+I2+\" \"+V2)"
   ]
  },
  {
   "cell_type": "code",
   "execution_count": 4,
   "metadata": {},
   "outputs": [
    {
     "name": "stdout",
     "output_type": "stream",
     "text": [
      "\n",
      "ans =\n",
      "\n",
      "     5\n",
      "\n",
      "\n"
     ]
    }
   ],
   "source": [
    "max2d(A)"
   ]
  },
  {
   "cell_type": "code",
   "execution_count": 6,
   "metadata": {},
   "outputs": [
    {
     "name": "stdout",
     "output_type": "stream",
     "text": [
      "\n",
      "maxval =\n",
      "\n",
      "     5\n",
      "\n",
      "\n",
      "i1 =\n",
      "\n",
      "     2\n",
      "\n",
      "\n",
      "i2 =\n",
      "\n",
      "     3\n",
      "\n",
      "\n"
     ]
    }
   ],
   "source": [
    "[maxval,i1,i2] = max2d(A)"
   ]
  },
  {
   "cell_type": "code",
   "execution_count": 70,
   "metadata": {},
   "outputs": [
    {
     "name": "stdout",
     "output_type": "stream",
     "text": [
      "\n"
     ]
    }
   ],
   "source": [
    "rho = 0.99;\n",
    "\n",
    "\n",
    "for di = 1:num_data\n",
    "    for n_a = 1:5\n",
    "        for n_b = 1:5\n",
    "            for n_c = 1:5\n",
    "                y = data(:,1,di);\n",
    "                u = data(:,2,di);\n",
    "                [theta, P, xi] = rels(y,u,n_a,n_b,n_c,rho);\n",
    "                aic = get_aic(xi, n_a+n_b+n_c+1);\n",
    "                aic_arr(n_a,n_b,n_c,di) = aic;\n",
    "            end\n",
    "        end\n",
    "    end\n",
    "end"
   ]
  },
  {
   "cell_type": "code",
   "execution_count": 106,
   "metadata": {},
   "outputs": [
    {
     "name": "stdout",
     "output_type": "stream",
     "text": [
      "\n",
      "ans(:,:,1) =\n",
      "\n",
      "   1.0e+03 *\n",
      "\n",
      "    1.5775    1.5213    1.4525    1.3746    1.2652\n",
      "    1.2582    0.9606    0.7146    0.5246    0.4815\n",
      "    1.0299    0.9300    0.4626    0.4711    0.4759\n",
      "    0.9961    0.9272    0.4711    0.4729    0.4778\n",
      "    0.9936    0.8224    0.4759    0.4778    0.4795\n",
      "\n",
      "\n",
      "ans(:,:,2) =\n",
      "\n",
      "   1.0e+03 *\n",
      "\n",
      "    1.4359    1.4187    1.4044    1.2624    1.1928\n",
      "    1.2316    0.9529    0.7117    0.5252    0.4834\n",
      "    1.0215    0.8910    0.4645    0.4728    0.4778\n",
      "    0.8869    0.8963    0.4728    0.4747    0.4796\n",
      "    0.9979    0.8219    0.4778    0.4796    0.4814\n",
      "\n",
      "\n",
      "ans(:,:,3) =\n",
      "\n",
      "   1.0e+03 *\n",
      "\n",
      "    1.4477    1.4192    1.3725    1.2627    1.1751\n",
      "    1.2071    0.9779    0.7080    0.5263    0.4851\n",
      "    1.0186    0.8803    0.4665    0.4748    0.4797\n",
      "    0.8787    0.8572    0.4748    0.4767    0.4815\n",
      "    0.9910    0.8068    0.4797    0.4815    0.4834\n",
      "\n",
      "\n",
      "ans(:,:,4) =\n",
      "\n",
      "   1.0e+03 *\n",
      "\n",
      "    1.3931    1.3759    1.3479    1.2301    1.1558\n",
      "    1.1989    0.9783    0.7057    0.5277    0.4870\n",
      "    0.9936    0.8858    0.4749    0.4767    0.4817\n",
      "    0.8736    0.8628    0.4767    0.4787    0.4834\n",
      "    0.9771    0.7934    0.4817    0.4835    0.4853\n",
      "\n",
      "\n",
      "ans(:,:,5) =\n",
      "\n",
      "   1.0e+03 *\n",
      "\n",
      "    1.3871    1.3678    1.3282    1.2198    1.1399\n",
      "    1.1890    0.9750    0.7058    0.5309    0.4888\n",
      "    0.9928    0.8946    0.4799    0.4818    0.4836\n",
      "    0.8795    0.8721    0.4818    0.4836    0.4855\n",
      "    0.9728    0.7890    0.4836    0.4855    0.4873\n",
      "\n",
      "\n"
     ]
    }
   ],
   "source": [
    "aic_arr(:,:,:,1)"
   ]
  },
  {
   "cell_type": "code",
   "execution_count": 101,
   "metadata": {},
   "outputs": [
    {
     "name": "stdout",
     "output_type": "stream",
     "text": [
      "\n",
      "min_aic =\n",
      "\n",
      "  462.6000\n",
      "\n",
      "\n",
      "min_a =\n",
      "\n",
      "     3\n",
      "\n",
      "\n",
      "min_b =\n",
      "\n",
      "     3\n",
      "\n",
      "\n",
      "min_c =\n",
      "\n",
      "     1\n",
      "\n",
      "\n"
     ]
    }
   ],
   "source": [
    "[min_aic,min_a,min_b,min_c] = min3d(aic_arr(:,:,:,1))"
   ]
  },
  {
   "cell_type": "code",
   "execution_count": 111,
   "metadata": {
    "scrolled": false
   },
   "outputs": [
    {
     "name": "stdout",
     "output_type": "stream",
     "text": [
      "\n",
      "theta =\n",
      "\n",
      "    0.6041\n",
      "    0.8003\n",
      "    0.3027\n",
      "   -0.0114\n",
      "    4.9918\n",
      "    6.0215\n",
      "    4.0093\n",
      "    0.1202\n",
      "\n",
      "\n"
     ]
    }
   ],
   "source": [
    "theta = rels(data(:,1,1),data(:,2,1),3,3,1,rho)"
   ]
  },
  {
   "cell_type": "markdown",
   "metadata": {},
   "source": [
    "前三个是$Y(k-1),Y(k-2),Y(k-3)$的系数（不是负系数，因为相关数据本身取了负），后四个是四个控制项的系数($u(k-1),\\dots,u(k-4)$)，\n",
    "看上去存在一阶延迟。最后一个是$\\epsilon(k-1)$的系数（$\\epsilon(k)$的系数被设成1，否则于标准差参数冗余，类似$Y(k)$）"
   ]
  },
  {
   "cell_type": "code",
   "execution_count": 102,
   "metadata": {},
   "outputs": [
    {
     "name": "stdout",
     "output_type": "stream",
     "text": [
      "\n",
      "min_aic =\n",
      "\n",
      "  567.3580\n",
      "\n",
      "\n",
      "min_a =\n",
      "\n",
      "     3\n",
      "\n",
      "\n",
      "min_b =\n",
      "\n",
      "     3\n",
      "\n",
      "\n",
      "min_c =\n",
      "\n",
      "     1\n",
      "\n",
      "\n"
     ]
    }
   ],
   "source": [
    "[min_aic,min_a,min_b,min_c] = min3d(aic_arr(:,:,:,2))"
   ]
  },
  {
   "cell_type": "code",
   "execution_count": 112,
   "metadata": {},
   "outputs": [
    {
     "name": "stdout",
     "output_type": "stream",
     "text": [
      "\n",
      "theta =\n",
      "\n",
      "    0.5066\n",
      "    0.7999\n",
      "    0.3048\n",
      "   -0.0104\n",
      "    5.9929\n",
      "    8.0406\n",
      "    4.0268\n",
      "    0.0649\n",
      "\n",
      "\n"
     ]
    }
   ],
   "source": [
    "theta = rels(data(:,1,2),data(:,2,2),3,3,1,rho)"
   ]
  },
  {
   "cell_type": "code",
   "execution_count": 103,
   "metadata": {},
   "outputs": [
    {
     "name": "stdout",
     "output_type": "stream",
     "text": [
      "\n",
      "min_aic =\n",
      "\n",
      "   33.9199\n",
      "\n",
      "\n",
      "min_a =\n",
      "\n",
      "     3\n",
      "\n",
      "\n",
      "min_b =\n",
      "\n",
      "     3\n",
      "\n",
      "\n",
      "min_c =\n",
      "\n",
      "     3\n",
      "\n",
      "\n"
     ]
    }
   ],
   "source": [
    "[min_aic,min_a,min_b,min_c] = min3d(aic_arr(:,:,:,3))"
   ]
  },
  {
   "cell_type": "code",
   "execution_count": 113,
   "metadata": {},
   "outputs": [
    {
     "name": "stdout",
     "output_type": "stream",
     "text": [
      "\n",
      "theta =\n",
      "\n",
      "    0.5527\n",
      "    0.7727\n",
      "    0.2144\n",
      "   -0.0294\n",
      "   -0.0076\n",
      "    7.9941\n",
      "    7.1330\n",
      "    0.0072\n",
      "    0.0491\n",
      "   -0.0584\n",
      "\n",
      "\n"
     ]
    }
   ],
   "source": [
    "theta = rels(data(:,1,3),data(:,2,3),3,3,3,rho)"
   ]
  },
  {
   "cell_type": "code",
   "execution_count": 104,
   "metadata": {},
   "outputs": [
    {
     "name": "stdout",
     "output_type": "stream",
     "text": [
      "\n",
      "min_aic =\n",
      "\n",
      "  685.7944\n",
      "\n",
      "\n",
      "min_a =\n",
      "\n",
      "     3\n",
      "\n",
      "\n",
      "min_b =\n",
      "\n",
      "     3\n",
      "\n",
      "\n",
      "min_c =\n",
      "\n",
      "     1\n",
      "\n",
      "\n"
     ]
    }
   ],
   "source": [
    "[min_aic,min_a,min_b,min_c] = min3d(aic_arr(:,:,:,4))"
   ]
  },
  {
   "cell_type": "code",
   "execution_count": 114,
   "metadata": {},
   "outputs": [
    {
     "name": "stdout",
     "output_type": "stream",
     "text": [
      "\n",
      "theta =\n",
      "\n",
      "    0.8002\n",
      "    0.6002\n",
      "    0.4008\n",
      "   -0.0121\n",
      "    7.9898\n",
      "   10.0018\n",
      "    4.9984\n",
      "    0.0827\n",
      "\n",
      "\n"
     ]
    }
   ],
   "source": [
    "theta = rels(data(:,1,4),data(:,2,4),3,3,1,rho)"
   ]
  },
  {
   "cell_type": "markdown",
   "metadata": {},
   "source": [
    "这个就拟合的很好，正确答案0.8,0.6,0.4,0.0,8.0,10.0,5.0,(0.1或0.0?没有统计证据)简直呼之欲出。"
   ]
  },
  {
   "cell_type": "code",
   "execution_count": 105,
   "metadata": {},
   "outputs": [
    {
     "name": "stdout",
     "output_type": "stream",
     "text": [
      "\n",
      "min_aic =\n",
      "\n",
      "  633.1918\n",
      "\n",
      "\n",
      "min_a =\n",
      "\n",
      "     2\n",
      "\n",
      "\n",
      "min_b =\n",
      "\n",
      "     2\n",
      "\n",
      "\n",
      "min_c =\n",
      "\n",
      "     2\n",
      "\n",
      "\n"
     ]
    }
   ],
   "source": [
    "[min_aic,min_a,min_b,min_c] = min3d(aic_arr(:,:,:,5))"
   ]
  },
  {
   "cell_type": "code",
   "execution_count": 115,
   "metadata": {},
   "outputs": [
    {
     "name": "stdout",
     "output_type": "stream",
     "text": [
      "\n",
      "theta =\n",
      "\n",
      "   -0.1703\n",
      "    0.6409\n",
      "   -0.0030\n",
      "    7.9111\n",
      "    2.6622\n",
      "   -0.6570\n",
      "    0.3155\n",
      "\n",
      "\n"
     ]
    }
   ],
   "source": [
    "theta = rels(data(:,1,5),data(:,2,5),2,2,2,rho)"
   ]
  },
  {
   "cell_type": "code",
   "execution_count": null,
   "metadata": {},
   "outputs": [],
   "source": []
  }
 ],
 "metadata": {
  "kernelspec": {
   "display_name": "Matlab",
   "language": "matlab",
   "name": "matlab"
  },
  "language_info": {
   "codemirror_mode": "octave",
   "file_extension": ".m",
   "help_links": [
    {
     "text": "MetaKernel Magics",
     "url": "https://github.com/calysto/metakernel/blob/master/metakernel/magics/README.md"
    }
   ],
   "mimetype": "text/x-octave",
   "name": "matlab",
   "version": "0.15.1"
  }
 },
 "nbformat": 4,
 "nbformat_minor": 2
}
